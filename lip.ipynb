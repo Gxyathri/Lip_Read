{
  "nbformat": 4,
  "nbformat_minor": 0,
  "metadata": {
    "colab": {
      "provenance": [],
      "gpuType": "T4",
      "authorship_tag": "ABX9TyOh6df3MQQwKfkFjI5AN0Vw"
    },
    "kernelspec": {
      "name": "python3",
      "display_name": "Python 3"
    },
    "language_info": {
      "name": "python"
    },
    "accelerator": "GPU"
  },
  "cells": [
    {
      "cell_type": "code",
      "execution_count": 1,
      "metadata": {
        "colab": {
          "base_uri": "https://localhost:8080/"
        },
        "id": "Ngu_xk193lOq",
        "outputId": "4c7d8341-eec1-4a0c-f4f9-2cefaf541671"
      },
      "outputs": [
        {
          "output_type": "stream",
          "name": "stdout",
          "text": [
            "GPU available: [PhysicalDevice(name='/physical_device:GPU:0', device_type='GPU')]\n"
          ]
        }
      ],
      "source": [
        "import tensorflow as tf\n",
        "print(\"GPU available:\", tf.config.list_physical_devices('GPU'))\n"
      ]
    },
    {
      "cell_type": "code",
      "source": [
        "import os\n",
        "import cv2\n",
        "import tensorflow as tf\n",
        "import numpy as np\n",
        "from typing import List\n",
        "from matplotlib import pyplot as plt\n",
        "import imageio"
      ],
      "metadata": {
        "id": "FdrbEhAT4NsJ"
      },
      "execution_count": 2,
      "outputs": []
    },
    {
      "cell_type": "code",
      "source": [
        "tf.config.list_physical_devices('GPU')"
      ],
      "metadata": {
        "colab": {
          "base_uri": "https://localhost:8080/"
        },
        "id": "sSR445wi4qSG",
        "outputId": "d5c7f5f6-0ef3-45c1-8759-2c22d6227f07"
      },
      "execution_count": 3,
      "outputs": [
        {
          "output_type": "execute_result",
          "data": {
            "text/plain": [
              "[PhysicalDevice(name='/physical_device:GPU:0', device_type='GPU')]"
            ]
          },
          "metadata": {},
          "execution_count": 3
        }
      ]
    },
    {
      "cell_type": "code",
      "source": [
        "physical_devices = tf.config.list_physical_devices('GPU')\n",
        "try:\n",
        "    tf.config.experimental.set_memory_growth(physical_devices[0], True)\n",
        "except:\n",
        "    pass"
      ],
      "metadata": {
        "id": "ihvQSLDl4uMh"
      },
      "execution_count": 4,
      "outputs": []
    },
    {
      "cell_type": "code",
      "source": [
        "import gdown"
      ],
      "metadata": {
        "id": "aLtMKOPA40GQ"
      },
      "execution_count": 5,
      "outputs": []
    },
    {
      "cell_type": "code",
      "source": [
        "url = 'https://drive.google.com/uc?id=1YlvpDLix3S-U8fd-gqRwPcWXAXm8JwjL'\n",
        "output = 'data.zip'\n",
        "gdown.download(url, output, quiet=False)\n",
        "gdown.extractall('data.zip')"
      ],
      "metadata": {
        "colab": {
          "base_uri": "https://localhost:8080/"
        },
        "id": "dhb4cHlJ43SG",
        "outputId": "9f3e6b36-d12f-433f-eee9-b2e77c92d7e5"
      },
      "execution_count": 6,
      "outputs": [
        {
          "output_type": "stream",
          "name": "stderr",
          "text": [
            "Downloading...\n",
            "From (original): https://drive.google.com/uc?id=1YlvpDLix3S-U8fd-gqRwPcWXAXm8JwjL\n",
            "From (redirected): https://drive.google.com/uc?id=1YlvpDLix3S-U8fd-gqRwPcWXAXm8JwjL&confirm=t&uuid=c0a7da57-0b5c-4b69-b353-d583540df955\n",
            "To: /content/data.zip\n",
            "100%|██████████| 423M/423M [00:04<00:00, 84.9MB/s]\n"
          ]
        },
        {
          "output_type": "execute_result",
          "data": {
            "text/plain": [
              "['data/',\n",
              " 'data/alignments/',\n",
              " 'data/alignments/s1/',\n",
              " 'data/alignments/s1/bbaf2n.align',\n",
              " 'data/alignments/s1/bbaf3s.align',\n",
              " 'data/alignments/s1/bbaf4p.align',\n",
              " 'data/alignments/s1/bbaf5a.align',\n",
              " 'data/alignments/s1/bbal6n.align',\n",
              " 'data/alignments/s1/bbal7s.align',\n",
              " 'data/alignments/s1/bbal8p.align',\n",
              " 'data/alignments/s1/bbal9a.align',\n",
              " 'data/alignments/s1/bbas1s.align',\n",
              " 'data/alignments/s1/bbas2p.align',\n",
              " 'data/alignments/s1/bbas3a.align',\n",
              " 'data/alignments/s1/bbaszn.align',\n",
              " 'data/alignments/s1/bbaz4n.align',\n",
              " 'data/alignments/s1/bbaz5s.align',\n",
              " 'data/alignments/s1/bbaz6p.align',\n",
              " 'data/alignments/s1/bbaz7a.align',\n",
              " 'data/alignments/s1/bbbf6n.align',\n",
              " 'data/alignments/s1/bbbf7s.align',\n",
              " 'data/alignments/s1/bbbf8p.align',\n",
              " 'data/alignments/s1/bbbf9a.align',\n",
              " 'data/alignments/s1/bbbm1s.align',\n",
              " 'data/alignments/s1/bbbm2p.align',\n",
              " 'data/alignments/s1/bbbm3a.align',\n",
              " 'data/alignments/s1/bbbmzn.align',\n",
              " 'data/alignments/s1/bbbs4n.align',\n",
              " 'data/alignments/s1/bbbs5s.align',\n",
              " 'data/alignments/s1/bbbs6p.align',\n",
              " 'data/alignments/s1/bbbs7a.align',\n",
              " 'data/alignments/s1/bbbz8n.align',\n",
              " 'data/alignments/s1/bbbz9s.align',\n",
              " 'data/alignments/s1/bbie8n.align',\n",
              " 'data/alignments/s1/bbie9s.align',\n",
              " 'data/alignments/s1/bbif1a.align',\n",
              " 'data/alignments/s1/bbifzp.align',\n",
              " 'data/alignments/s1/bbil2n.align',\n",
              " 'data/alignments/s1/bbil3s.align',\n",
              " 'data/alignments/s1/bbil4p.align',\n",
              " 'data/alignments/s1/bbil5a.align',\n",
              " 'data/alignments/s1/bbir6n.align',\n",
              " 'data/alignments/s1/bbir7s.align',\n",
              " 'data/alignments/s1/bbir8p.align',\n",
              " 'data/alignments/s1/bbir9a.align',\n",
              " 'data/alignments/s1/bbiz1s.align',\n",
              " 'data/alignments/s1/bbiz2p.align',\n",
              " 'data/alignments/s1/bbiz3a.align',\n",
              " 'data/alignments/s1/bbizzn.align',\n",
              " 'data/alignments/s1/bbwg1s.align',\n",
              " 'data/alignments/s1/bbwg2p.align',\n",
              " 'data/alignments/s1/bbwg3a.align',\n",
              " 'data/alignments/s1/bbwgzn.align',\n",
              " 'data/alignments/s1/bbwm4n.align',\n",
              " 'data/alignments/s1/bbwm5s.align',\n",
              " 'data/alignments/s1/bbwm6p.align',\n",
              " 'data/alignments/s1/bbwm7a.align',\n",
              " 'data/alignments/s1/bbws8n.align',\n",
              " 'data/alignments/s1/bbws9s.align',\n",
              " 'data/alignments/s1/bbwt1a.align',\n",
              " 'data/alignments/s1/bbwtzp.align',\n",
              " 'data/alignments/s1/bgaa6n.align',\n",
              " 'data/alignments/s1/bgaa7s.align',\n",
              " 'data/alignments/s1/bgaa8p.align',\n",
              " 'data/alignments/s1/bgaa9a.align',\n",
              " 'data/alignments/s1/bgah1s.align',\n",
              " 'data/alignments/s1/bgah2p.align',\n",
              " 'data/alignments/s1/bgah3a.align',\n",
              " 'data/alignments/s1/bgahzn.align',\n",
              " 'data/alignments/s1/bgan4n.align',\n",
              " 'data/alignments/s1/bgan5s.align',\n",
              " 'data/alignments/s1/bgan6p.align',\n",
              " 'data/alignments/s1/bgan7a.align',\n",
              " 'data/alignments/s1/bgat8n.align',\n",
              " 'data/alignments/s1/bgat9s.align',\n",
              " 'data/alignments/s1/bgau1a.align',\n",
              " 'data/alignments/s1/bgauzp.align',\n",
              " 'data/alignments/s1/bgbb1s.align',\n",
              " 'data/alignments/s1/bgbb2p.align',\n",
              " 'data/alignments/s1/bgbb3a.align',\n",
              " 'data/alignments/s1/bgbbzn.align',\n",
              " 'data/alignments/s1/bgbh4n.align',\n",
              " 'data/alignments/s1/bgbh5s.align',\n",
              " 'data/alignments/s1/bgbh6p.align',\n",
              " 'data/alignments/s1/bgbh7a.align',\n",
              " 'data/alignments/s1/bgbn8n.align',\n",
              " 'data/alignments/s1/bgbn9s.align',\n",
              " 'data/alignments/s1/bgbo1a.align',\n",
              " 'data/alignments/s1/bgbozp.align',\n",
              " 'data/alignments/s1/bgbu2n.align',\n",
              " 'data/alignments/s1/bgbu3s.align',\n",
              " 'data/alignments/s1/bgbu4p.align',\n",
              " 'data/alignments/s1/bgbu5a.align',\n",
              " 'data/alignments/s1/bgia2n.align',\n",
              " 'data/alignments/s1/bgia3s.align',\n",
              " 'data/alignments/s1/bgia4p.align',\n",
              " 'data/alignments/s1/bgia5a.align',\n",
              " 'data/alignments/s1/bgig6n.align',\n",
              " 'data/alignments/s1/bgig7s.align',\n",
              " 'data/alignments/s1/bgig8p.align',\n",
              " 'data/alignments/s1/bgig9a.align',\n",
              " 'data/alignments/s1/bgin1s.align',\n",
              " 'data/alignments/s1/bgin2p.align',\n",
              " 'data/alignments/s1/bgin3a.align',\n",
              " 'data/alignments/s1/bginzn.align',\n",
              " 'data/alignments/s1/bgit4n.align',\n",
              " 'data/alignments/s1/bgit5s.align',\n",
              " 'data/alignments/s1/bgit6p.align',\n",
              " 'data/alignments/s1/bgit7a.align',\n",
              " 'data/alignments/s1/bgwb4n.align',\n",
              " 'data/alignments/s1/bgwb5s.align',\n",
              " 'data/alignments/s1/bgwb6p.align',\n",
              " 'data/alignments/s1/bgwb7a.align',\n",
              " 'data/alignments/s1/bgwh8n.align',\n",
              " 'data/alignments/s1/bgwh9s.align',\n",
              " 'data/alignments/s1/bgwi1a.align',\n",
              " 'data/alignments/s1/bgwizp.align',\n",
              " 'data/alignments/s1/bgwo2n.align',\n",
              " 'data/alignments/s1/bgwo3s.align',\n",
              " 'data/alignments/s1/bgwo4p.align',\n",
              " 'data/alignments/s1/bgwo5a.align',\n",
              " 'data/alignments/s1/bgwu6n.align',\n",
              " 'data/alignments/s1/bgwu7s.align',\n",
              " 'data/alignments/s1/bgwu8p.align',\n",
              " 'data/alignments/s1/bgwu9a.align',\n",
              " 'data/alignments/s1/braf8n.align',\n",
              " 'data/alignments/s1/braf9s.align',\n",
              " 'data/alignments/s1/brag1a.align',\n",
              " 'data/alignments/s1/bragzp.align',\n",
              " 'data/alignments/s1/bram2n.align',\n",
              " 'data/alignments/s1/bram3s.align',\n",
              " 'data/alignments/s1/bram4p.align',\n",
              " 'data/alignments/s1/bram5a.align',\n",
              " 'data/alignments/s1/bras6n.align',\n",
              " 'data/alignments/s1/bras7s.align',\n",
              " 'data/alignments/s1/bras8p.align',\n",
              " 'data/alignments/s1/bras9a.align',\n",
              " 'data/alignments/s1/brba1a.align',\n",
              " 'data/alignments/s1/brbazp.align',\n",
              " 'data/alignments/s1/brbg2n.align',\n",
              " 'data/alignments/s1/brbg3s.align',\n",
              " 'data/alignments/s1/brbg4p.align',\n",
              " 'data/alignments/s1/brbg5a.align',\n",
              " 'data/alignments/s1/brbm6n.align',\n",
              " 'data/alignments/s1/brbm7s.align',\n",
              " 'data/alignments/s1/brbm8p.align',\n",
              " 'data/alignments/s1/brbm9a.align',\n",
              " 'data/alignments/s1/brbt1s.align',\n",
              " 'data/alignments/s1/brbt2p.align',\n",
              " 'data/alignments/s1/brbt3a.align',\n",
              " 'data/alignments/s1/brbtzn.align',\n",
              " 'data/alignments/s1/brif4n.align',\n",
              " 'data/alignments/s1/brif5s.align',\n",
              " 'data/alignments/s1/brif6p.align',\n",
              " 'data/alignments/s1/brif7a.align',\n",
              " 'data/alignments/s1/bril8n.align',\n",
              " 'data/alignments/s1/bril9s.align',\n",
              " 'data/alignments/s1/brim1a.align',\n",
              " 'data/alignments/s1/brimzp.align',\n",
              " 'data/alignments/s1/bris2n.align',\n",
              " 'data/alignments/s1/bris3s.align',\n",
              " 'data/alignments/s1/bris4p.align',\n",
              " 'data/alignments/s1/bris5a.align',\n",
              " 'data/alignments/s1/briz6n.align',\n",
              " 'data/alignments/s1/briz7s.align',\n",
              " 'data/alignments/s1/briz8p.align',\n",
              " 'data/alignments/s1/briz9a.align',\n",
              " 'data/alignments/s1/brwa2n.align',\n",
              " 'data/alignments/s1/brwa3s.align',\n",
              " 'data/alignments/s1/brwa4p.align',\n",
              " 'data/alignments/s1/brwa5a.align',\n",
              " 'data/alignments/s1/brwg6n.align',\n",
              " 'data/alignments/s1/brwg7s.align',\n",
              " 'data/alignments/s1/brwg8p.align',\n",
              " 'data/alignments/s1/brwg9a.align',\n",
              " 'data/alignments/s1/brwn1s.align',\n",
              " 'data/alignments/s1/brwn2p.align',\n",
              " 'data/alignments/s1/brwn3a.align',\n",
              " 'data/alignments/s1/brwnzn.align',\n",
              " 'data/alignments/s1/brwt4n.align',\n",
              " 'data/alignments/s1/brwt5s.align',\n",
              " 'data/alignments/s1/brwt6p.align',\n",
              " 'data/alignments/s1/brwt7a.align',\n",
              " 'data/alignments/s1/bwaa1s.align',\n",
              " 'data/alignments/s1/bwaa2p.align',\n",
              " 'data/alignments/s1/bwaa3a.align',\n",
              " 'data/alignments/s1/bwaazn.align',\n",
              " 'data/alignments/s1/bwag4n.align',\n",
              " 'data/alignments/s1/bwag5s.align',\n",
              " 'data/alignments/s1/bwag6p.align',\n",
              " 'data/alignments/s1/bwag7a.align',\n",
              " 'data/alignments/s1/bwam8n.align',\n",
              " 'data/alignments/s1/bwam9s.align',\n",
              " 'data/alignments/s1/bwan1a.align',\n",
              " 'data/alignments/s1/bwanzp.align',\n",
              " 'data/alignments/s1/bwat2n.align',\n",
              " 'data/alignments/s1/bwat3s.align',\n",
              " 'data/alignments/s1/bwat4p.align',\n",
              " 'data/alignments/s1/bwat5a.align',\n",
              " 'data/alignments/s1/bwba4n.align',\n",
              " 'data/alignments/s1/bwba5s.align',\n",
              " 'data/alignments/s1/bwba6p.align',\n",
              " 'data/alignments/s1/bwba7a.align',\n",
              " 'data/alignments/s1/bwbg8n.align',\n",
              " 'data/alignments/s1/bwbg9s.align',\n",
              " 'data/alignments/s1/bwbh1a.align',\n",
              " 'data/alignments/s1/bwbhzp.align',\n",
              " 'data/alignments/s1/bwbn2n.align',\n",
              " 'data/alignments/s1/bwbn3s.align',\n",
              " 'data/alignments/s1/bwbn4p.align',\n",
              " 'data/alignments/s1/bwbn5a.align',\n",
              " 'data/alignments/s1/bwbt6n.align',\n",
              " 'data/alignments/s1/bwbt7s.align',\n",
              " 'data/alignments/s1/bwbt8p.align',\n",
              " 'data/alignments/s1/bwbt9a.align',\n",
              " 'data/alignments/s1/bwig1s.align',\n",
              " 'data/alignments/s1/bwig2p.align',\n",
              " 'data/alignments/s1/bwig3a.align',\n",
              " 'data/alignments/s1/bwigzn.align',\n",
              " 'data/alignments/s1/bwim4n.align',\n",
              " 'data/alignments/s1/bwim5s.align',\n",
              " 'data/alignments/s1/bwim6p.align',\n",
              " 'data/alignments/s1/bwim7a.align',\n",
              " 'data/alignments/s1/bwis8n.align',\n",
              " 'data/alignments/s1/bwis9s.align',\n",
              " 'data/alignments/s1/bwit1a.align',\n",
              " 'data/alignments/s1/bwitzp.align',\n",
              " 'data/alignments/s1/bwwa8n.align',\n",
              " 'data/alignments/s1/bwwa9s.align',\n",
              " 'data/alignments/s1/bwwb1a.align',\n",
              " 'data/alignments/s1/bwwbzp.align',\n",
              " 'data/alignments/s1/bwwh2n.align',\n",
              " 'data/alignments/s1/bwwh3s.align',\n",
              " 'data/alignments/s1/bwwh4p.align',\n",
              " 'data/alignments/s1/bwwh5a.align',\n",
              " 'data/alignments/s1/bwwn6n.align',\n",
              " 'data/alignments/s1/bwwn7s.align',\n",
              " 'data/alignments/s1/bwwn8p.align',\n",
              " 'data/alignments/s1/bwwn9a.align',\n",
              " 'data/alignments/s1/bwwu1s.align',\n",
              " 'data/alignments/s1/bwwu2p.align',\n",
              " 'data/alignments/s1/bwwu3a.align',\n",
              " 'data/alignments/s1/bwwuzn.align',\n",
              " 'data/alignments/s1/lbad6n.align',\n",
              " 'data/alignments/s1/lbad7s.align',\n",
              " 'data/alignments/s1/lbad8p.align',\n",
              " 'data/alignments/s1/lbad9a.align',\n",
              " 'data/alignments/s1/lbak1s.align',\n",
              " 'data/alignments/s1/lbak2p.align',\n",
              " 'data/alignments/s1/lbak3a.align',\n",
              " 'data/alignments/s1/lbakzn.align',\n",
              " 'data/alignments/s1/lbaq4n.align',\n",
              " 'data/alignments/s1/lbaq5s.align',\n",
              " 'data/alignments/s1/lbaq6p.align',\n",
              " 'data/alignments/s1/lbaq7a.align',\n",
              " 'data/alignments/s1/lbax8n.align',\n",
              " 'data/alignments/s1/lbax9s.align',\n",
              " 'data/alignments/s1/lbay1a.align',\n",
              " 'data/alignments/s1/lbayzp.align',\n",
              " 'data/alignments/s1/lbbe1s.align',\n",
              " 'data/alignments/s1/lbbe2p.align',\n",
              " 'data/alignments/s1/lbbe3a.align',\n",
              " 'data/alignments/s1/lbbezn.align',\n",
              " 'data/alignments/s1/lbbk4n.align',\n",
              " 'data/alignments/s1/lbbk5s.align',\n",
              " 'data/alignments/s1/lbbk6p.align',\n",
              " 'data/alignments/s1/lbbk7a.align',\n",
              " 'data/alignments/s1/lbbq8n.align',\n",
              " 'data/alignments/s1/lbbq9s.align',\n",
              " 'data/alignments/s1/lbbr1a.align',\n",
              " 'data/alignments/s1/lbbrzp.align',\n",
              " 'data/alignments/s1/lbby2n.align',\n",
              " 'data/alignments/s1/lbby3s.align',\n",
              " 'data/alignments/s1/lbby4p.align',\n",
              " 'data/alignments/s1/lbby5a.align',\n",
              " 'data/alignments/s1/lbid2n.align',\n",
              " 'data/alignments/s1/lbid3s.align',\n",
              " 'data/alignments/s1/lbid4p.align',\n",
              " 'data/alignments/s1/lbid5a.align',\n",
              " 'data/alignments/s1/lbij6n.align',\n",
              " 'data/alignments/s1/lbij7s.align',\n",
              " 'data/alignments/s1/lbij8p.align',\n",
              " 'data/alignments/s1/lbij9a.align',\n",
              " 'data/alignments/s1/lbiq1s.align',\n",
              " 'data/alignments/s1/lbiq2p.align',\n",
              " 'data/alignments/s1/lbiq3a.align',\n",
              " 'data/alignments/s1/lbiqzn.align',\n",
              " 'data/alignments/s1/lbix4n.align',\n",
              " 'data/alignments/s1/lbix5s.align',\n",
              " 'data/alignments/s1/lbix6p.align',\n",
              " 'data/alignments/s1/lbix7a.align',\n",
              " 'data/alignments/s1/lbwe4n.align',\n",
              " 'data/alignments/s1/lbwe5s.align',\n",
              " 'data/alignments/s1/lbwe6p.align',\n",
              " 'data/alignments/s1/lbwe7a.align',\n",
              " 'data/alignments/s1/lbwk8n.align',\n",
              " 'data/alignments/s1/lbwk9s.align',\n",
              " 'data/alignments/s1/lbwl1a.align',\n",
              " 'data/alignments/s1/lbwlzp.align',\n",
              " 'data/alignments/s1/lbwr2n.align',\n",
              " 'data/alignments/s1/lbwr3s.align',\n",
              " 'data/alignments/s1/lbwr4p.align',\n",
              " 'data/alignments/s1/lbwr5a.align',\n",
              " 'data/alignments/s1/lbwy6n.align',\n",
              " 'data/alignments/s1/lbwy7s.align',\n",
              " 'data/alignments/s1/lbwy8p.align',\n",
              " 'data/alignments/s1/lbwy9a.align',\n",
              " 'data/alignments/s1/lgaf4n.align',\n",
              " 'data/alignments/s1/lgaf5s.align',\n",
              " 'data/alignments/s1/lgaf6p.align',\n",
              " 'data/alignments/s1/lgaf7a.align',\n",
              " 'data/alignments/s1/lgal8n.align',\n",
              " 'data/alignments/s1/lgal9s.align',\n",
              " 'data/alignments/s1/lgam1a.align',\n",
              " 'data/alignments/s1/lgamzp.align',\n",
              " 'data/alignments/s1/lgas2n.align',\n",
              " 'data/alignments/s1/lgas3s.align',\n",
              " 'data/alignments/s1/lgas4p.align',\n",
              " 'data/alignments/s1/lgas5a.align',\n",
              " 'data/alignments/s1/lgaz6n.align',\n",
              " 'data/alignments/s1/lgaz7s.align',\n",
              " 'data/alignments/s1/lgaz8p.align',\n",
              " 'data/alignments/s1/lgaz9a.align',\n",
              " 'data/alignments/s1/lgbf8n.align',\n",
              " 'data/alignments/s1/lgbf9s.align',\n",
              " 'data/alignments/s1/lgbg1a.align',\n",
              " 'data/alignments/s1/lgbgzp.align',\n",
              " 'data/alignments/s1/lgbm2n.align',\n",
              " 'data/alignments/s1/lgbm3s.align',\n",
              " 'data/alignments/s1/lgbm4p.align',\n",
              " 'data/alignments/s1/lgbm5a.align',\n",
              " 'data/alignments/s1/lgbs6n.align',\n",
              " 'data/alignments/s1/lgbs7s.align',\n",
              " 'data/alignments/s1/lgbs8p.align',\n",
              " 'data/alignments/s1/lgbs9a.align',\n",
              " 'data/alignments/s1/lgif1s.align',\n",
              " 'data/alignments/s1/lgif2p.align',\n",
              " 'data/alignments/s1/lgif3a.align',\n",
              " 'data/alignments/s1/lgifzn.align',\n",
              " 'data/alignments/s1/lgil4n.align',\n",
              " 'data/alignments/s1/lgil5s.align',\n",
              " 'data/alignments/s1/lgil6p.align',\n",
              " 'data/alignments/s1/lgil7a.align',\n",
              " 'data/alignments/s1/lgir8n.align',\n",
              " 'data/alignments/s1/lgir9s.align',\n",
              " 'data/alignments/s1/lgis1a.align',\n",
              " 'data/alignments/s1/lgiszp.align',\n",
              " 'data/alignments/s1/lgiz2n.align',\n",
              " 'data/alignments/s1/lgiz3s.align',\n",
              " 'data/alignments/s1/lgiz4p.align',\n",
              " 'data/alignments/s1/lgiz5a.align',\n",
              " 'data/alignments/s1/lgwa1a.align',\n",
              " 'data/alignments/s1/lgwazp.align',\n",
              " 'data/alignments/s1/lgwg2n.align',\n",
              " 'data/alignments/s1/lgwg3s.align',\n",
              " 'data/alignments/s1/lgwg4p.align',\n",
              " 'data/alignments/s1/lgwg5a.align',\n",
              " 'data/alignments/s1/lgwm6n.align',\n",
              " 'data/alignments/s1/lgwm7s.align',\n",
              " 'data/alignments/s1/lgwm8p.align',\n",
              " 'data/alignments/s1/lgwm9a.align',\n",
              " 'data/alignments/s1/lgwt1s.align',\n",
              " 'data/alignments/s1/lgwt2p.align',\n",
              " 'data/alignments/s1/lgwt3a.align',\n",
              " 'data/alignments/s1/lgwtzn.align',\n",
              " 'data/alignments/s1/lrae2n.align',\n",
              " 'data/alignments/s1/lrae3s.align',\n",
              " 'data/alignments/s1/lrae4p.align',\n",
              " 'data/alignments/s1/lrae5a.align',\n",
              " 'data/alignments/s1/lrak6n.align',\n",
              " 'data/alignments/s1/lrak7s.align',\n",
              " 'data/alignments/s1/lrak8p.align',\n",
              " 'data/alignments/s1/lrak9a.align',\n",
              " 'data/alignments/s1/lrar1s.align',\n",
              " 'data/alignments/s1/lrar2p.align',\n",
              " 'data/alignments/s1/lrar3a.align',\n",
              " 'data/alignments/s1/lrarzn.align',\n",
              " 'data/alignments/s1/lray4n.align',\n",
              " 'data/alignments/s1/lray5s.align',\n",
              " 'data/alignments/s1/lray6p.align',\n",
              " 'data/alignments/s1/lray7a.align',\n",
              " 'data/alignments/s1/lrbe6n.align',\n",
              " 'data/alignments/s1/lrbe7s.align',\n",
              " 'data/alignments/s1/lrbe8p.align',\n",
              " 'data/alignments/s1/lrbe9a.align',\n",
              " 'data/alignments/s1/lrbl1s.align',\n",
              " 'data/alignments/s1/lrbl2p.align',\n",
              " 'data/alignments/s1/lrbl3a.align',\n",
              " 'data/alignments/s1/lrblzn.align',\n",
              " 'data/alignments/s1/lrbr4n.align',\n",
              " 'data/alignments/s1/lrbr5s.align',\n",
              " 'data/alignments/s1/lrbr6p.align',\n",
              " 'data/alignments/s1/lrbr7a.align',\n",
              " 'data/alignments/s1/lrby8n.align',\n",
              " 'data/alignments/s1/lrby9s.align',\n",
              " 'data/alignments/s1/lrbz1a.align',\n",
              " 'data/alignments/s1/lrbzzp.align',\n",
              " 'data/alignments/s1/lrid8n.align',\n",
              " 'data/alignments/s1/lrid9s.align',\n",
              " 'data/alignments/s1/lrie1a.align',\n",
              " 'data/alignments/s1/lriezp.align',\n",
              " 'data/alignments/s1/lrik2n.align',\n",
              " 'data/alignments/s1/lrik3s.align',\n",
              " 'data/alignments/s1/lrik4p.align',\n",
              " 'data/alignments/s1/lrik5a.align',\n",
              " 'data/alignments/s1/lriq6n.align',\n",
              " 'data/alignments/s1/lriq7s.align',\n",
              " 'data/alignments/s1/lriq8p.align',\n",
              " 'data/alignments/s1/lriq9a.align',\n",
              " 'data/alignments/s1/lriy1s.align',\n",
              " 'data/alignments/s1/lriy2p.align',\n",
              " 'data/alignments/s1/lriy3a.align',\n",
              " 'data/alignments/s1/lriyzn.align',\n",
              " 'data/alignments/s1/lrwf1s.align',\n",
              " 'data/alignments/s1/lrwf2p.align',\n",
              " 'data/alignments/s1/lrwf3a.align',\n",
              " 'data/alignments/s1/lrwfzn.align',\n",
              " 'data/alignments/s1/lrwl4n.align',\n",
              " 'data/alignments/s1/lrwl5s.align',\n",
              " 'data/alignments/s1/lrwl6p.align',\n",
              " 'data/alignments/s1/lrwl7a.align',\n",
              " 'data/alignments/s1/lrwr8n.align',\n",
              " 'data/alignments/s1/lrwr9s.align',\n",
              " 'data/alignments/s1/lrws1a.align',\n",
              " 'data/alignments/s1/lrwszp.align',\n",
              " 'data/alignments/s1/lrwz2n.align',\n",
              " 'data/alignments/s1/lrwz3s.align',\n",
              " 'data/alignments/s1/lrwz4p.align',\n",
              " 'data/alignments/s1/lrwz5a.align',\n",
              " 'data/alignments/s1/lwae8n.align',\n",
              " 'data/alignments/s1/lwae9s.align',\n",
              " 'data/alignments/s1/lwaf1a.align',\n",
              " 'data/alignments/s1/lwafzp.align',\n",
              " 'data/alignments/s1/lwal2n.align',\n",
              " 'data/alignments/s1/lwal3s.align',\n",
              " 'data/alignments/s1/lwal4p.align',\n",
              " 'data/alignments/s1/lwal5a.align',\n",
              " 'data/alignments/s1/lwar6n.align',\n",
              " 'data/alignments/s1/lwar7s.align',\n",
              " 'data/alignments/s1/lwar8p.align',\n",
              " 'data/alignments/s1/lwar9a.align',\n",
              " 'data/alignments/s1/lwaz1s.align',\n",
              " 'data/alignments/s1/lwaz2p.align',\n",
              " 'data/alignments/s1/lwaz3a.align',\n",
              " 'data/alignments/s1/lwazzn.align',\n",
              " 'data/alignments/s1/lwbf2n.align',\n",
              " 'data/alignments/s1/lwbf3s.align',\n",
              " 'data/alignments/s1/lwbf4p.align',\n",
              " 'data/alignments/s1/lwbf5a.align',\n",
              " 'data/alignments/s1/lwbl6n.align',\n",
              " 'data/alignments/s1/lwbl7s.align',\n",
              " 'data/alignments/s1/lwbl8p.align',\n",
              " 'data/alignments/s1/lwbl9a.align',\n",
              " 'data/alignments/s1/lwbs1s.align',\n",
              " 'data/alignments/s1/lwbs2p.align',\n",
              " 'data/alignments/s1/lwbs3a.align',\n",
              " 'data/alignments/s1/lwbszn.align',\n",
              " 'data/alignments/s1/lwbz4n.align',\n",
              " 'data/alignments/s1/lwbz5s.align',\n",
              " 'data/alignments/s1/lwbz6p.align',\n",
              " 'data/alignments/s1/lwbz7a.align',\n",
              " 'data/alignments/s1/lwie4n.align',\n",
              " 'data/alignments/s1/lwie5s.align',\n",
              " 'data/alignments/s1/lwie6p.align',\n",
              " 'data/alignments/s1/lwie7a.align',\n",
              " 'data/alignments/s1/lwik8n.align',\n",
              " 'data/alignments/s1/lwik9s.align',\n",
              " 'data/alignments/s1/lwil1a.align',\n",
              " 'data/alignments/s1/lwilzp.align',\n",
              " 'data/alignments/s1/lwir2n.align',\n",
              " 'data/alignments/s1/lwir3s.align',\n",
              " 'data/alignments/s1/lwir4p.align',\n",
              " 'data/alignments/s1/lwir5a.align',\n",
              " 'data/alignments/s1/lwiy6n.align',\n",
              " 'data/alignments/s1/lwiy7s.align',\n",
              " 'data/alignments/s1/lwiy8p.align',\n",
              " 'data/alignments/s1/lwiy9a.align',\n",
              " 'data/alignments/s1/lwwf6n.align',\n",
              " 'data/alignments/s1/lwwf7s.align',\n",
              " 'data/alignments/s1/lwwf8p.align',\n",
              " 'data/alignments/s1/lwwf9a.align',\n",
              " 'data/alignments/s1/lwwm1s.align',\n",
              " 'data/alignments/s1/lwwm2p.align',\n",
              " 'data/alignments/s1/lwwm3a.align',\n",
              " 'data/alignments/s1/lwwmzn.align',\n",
              " 'data/alignments/s1/lwws4n.align',\n",
              " 'data/alignments/s1/lwws5s.align',\n",
              " 'data/alignments/s1/lwws6p.align',\n",
              " 'data/alignments/s1/lwws7a.align',\n",
              " 'data/alignments/s1/lwwz8n.align',\n",
              " 'data/alignments/s1/lwwz9s.align',\n",
              " 'data/alignments/s1/pbac1s.align',\n",
              " 'data/alignments/s1/pbac2p.align',\n",
              " 'data/alignments/s1/pbac3a.align',\n",
              " 'data/alignments/s1/pbaczn.align',\n",
              " 'data/alignments/s1/pbai4n.align',\n",
              " 'data/alignments/s1/pbai5s.align',\n",
              " 'data/alignments/s1/pbai6p.align',\n",
              " 'data/alignments/s1/pbai7a.align',\n",
              " 'data/alignments/s1/pbao8n.align',\n",
              " 'data/alignments/s1/pbao9s.align',\n",
              " 'data/alignments/s1/pbap1a.align',\n",
              " 'data/alignments/s1/pbapzp.align',\n",
              " 'data/alignments/s1/pbav2n.align',\n",
              " 'data/alignments/s1/pbav3s.align',\n",
              " 'data/alignments/s1/pbav4p.align',\n",
              " 'data/alignments/s1/pbav5a.align',\n",
              " 'data/alignments/s1/pbbc4n.align',\n",
              " 'data/alignments/s1/pbbc5s.align',\n",
              " 'data/alignments/s1/pbbc6p.align',\n",
              " 'data/alignments/s1/pbbc7a.align',\n",
              " 'data/alignments/s1/pbbi8n.align',\n",
              " 'data/alignments/s1/pbbi9s.align',\n",
              " 'data/alignments/s1/pbbj1a.align',\n",
              " 'data/alignments/s1/pbbjzp.align',\n",
              " 'data/alignments/s1/pbbp2n.align',\n",
              " 'data/alignments/s1/pbbp3s.align',\n",
              " 'data/alignments/s1/pbbp4p.align',\n",
              " 'data/alignments/s1/pbbp5a.align',\n",
              " 'data/alignments/s1/pbbv6n.align',\n",
              " 'data/alignments/s1/pbbv7s.align',\n",
              " 'data/alignments/s1/pbbv8p.align',\n",
              " 'data/alignments/s1/pbbv9a.align',\n",
              " 'data/alignments/s1/pbib6n.align',\n",
              " 'data/alignments/s1/pbib7s.align',\n",
              " 'data/alignments/s1/pbib8p.align',\n",
              " 'data/alignments/s1/pbib9a.align',\n",
              " 'data/alignments/s1/pbii1s.align',\n",
              " 'data/alignments/s1/pbii2p.align',\n",
              " 'data/alignments/s1/pbii3a.align',\n",
              " 'data/alignments/s1/pbiizn.align',\n",
              " 'data/alignments/s1/pbio4n.align',\n",
              " 'data/alignments/s1/pbio5s.align',\n",
              " 'data/alignments/s1/pbio6p.align',\n",
              " 'data/alignments/s1/pbio7a.align',\n",
              " 'data/alignments/s1/pbiu8n.align',\n",
              " 'data/alignments/s1/pbiu9s.align',\n",
              " 'data/alignments/s1/pbiv1a.align',\n",
              " 'data/alignments/s1/pbivzp.align',\n",
              " 'data/alignments/s1/pbwc8n.align',\n",
              " 'data/alignments/s1/pbwc9s.align',\n",
              " 'data/alignments/s1/pbwd1a.align',\n",
              " 'data/alignments/s1/pbwdzp.align',\n",
              " 'data/alignments/s1/pbwj2n.align',\n",
              " 'data/alignments/s1/pbwj3s.align',\n",
              " 'data/alignments/s1/pbwj4p.align',\n",
              " 'data/alignments/s1/pbwj5a.align',\n",
              " 'data/alignments/s1/pbwp6n.align',\n",
              " 'data/alignments/s1/pbwp7s.align',\n",
              " 'data/alignments/s1/pbwp8p.align',\n",
              " 'data/alignments/s1/pbwp9a.align',\n",
              " 'data/alignments/s1/pbwx1s.align',\n",
              " 'data/alignments/s1/pbwx2p.align',\n",
              " 'data/alignments/s1/pbwx3a.align',\n",
              " 'data/alignments/s1/pbwxzn.align',\n",
              " 'data/alignments/s1/pgad8n.align',\n",
              " 'data/alignments/s1/pgad9s.align',\n",
              " 'data/alignments/s1/pgae1a.align',\n",
              " 'data/alignments/s1/pgaezp.align',\n",
              " 'data/alignments/s1/pgak2n.align',\n",
              " 'data/alignments/s1/pgak3s.align',\n",
              " 'data/alignments/s1/pgak4p.align',\n",
              " 'data/alignments/s1/pgak5a.align',\n",
              " 'data/alignments/s1/pgaq6n.align',\n",
              " 'data/alignments/s1/pgaq7s.align',\n",
              " 'data/alignments/s1/pgaq8p.align',\n",
              " 'data/alignments/s1/pgaq9a.align',\n",
              " 'data/alignments/s1/pgay1s.align',\n",
              " 'data/alignments/s1/pgay2p.align',\n",
              " 'data/alignments/s1/pgay3a.align',\n",
              " 'data/alignments/s1/pgayzn.align',\n",
              " 'data/alignments/s1/pgbe2n.align',\n",
              " 'data/alignments/s1/pgbe3s.align',\n",
              " 'data/alignments/s1/pgbe4p.align',\n",
              " 'data/alignments/s1/pgbe5a.align',\n",
              " 'data/alignments/s1/pgbk6n.align',\n",
              " 'data/alignments/s1/pgbk7s.align',\n",
              " 'data/alignments/s1/pgbk8p.align',\n",
              " 'data/alignments/s1/pgbk9a.align',\n",
              " 'data/alignments/s1/pgbr1s.align',\n",
              " 'data/alignments/s1/pgbr2p.align',\n",
              " 'data/alignments/s1/pgbr3a.align',\n",
              " 'data/alignments/s1/pgbrzn.align',\n",
              " 'data/alignments/s1/pgby4n.align',\n",
              " 'data/alignments/s1/pgby5s.align',\n",
              " 'data/alignments/s1/pgby6p.align',\n",
              " 'data/alignments/s1/pgby7a.align',\n",
              " 'data/alignments/s1/pgid4n.align',\n",
              " 'data/alignments/s1/pgid5s.align',\n",
              " 'data/alignments/s1/pgid6p.align',\n",
              " 'data/alignments/s1/pgid7a.align',\n",
              " 'data/alignments/s1/pgij8n.align',\n",
              " 'data/alignments/s1/pgij9s.align',\n",
              " 'data/alignments/s1/pgik1a.align',\n",
              " 'data/alignments/s1/pgikzp.align',\n",
              " 'data/alignments/s1/pgiq2n.align',\n",
              " 'data/alignments/s1/pgiq3s.align',\n",
              " 'data/alignments/s1/pgiq4p.align',\n",
              " 'data/alignments/s1/pgiq5a.align',\n",
              " 'data/alignments/s1/pgix6n.align',\n",
              " 'data/alignments/s1/pgix7s.align',\n",
              " 'data/alignments/s1/pgix8p.align',\n",
              " 'data/alignments/s1/pgix9a.align',\n",
              " 'data/alignments/s1/pgwe6n.align',\n",
              " 'data/alignments/s1/pgwe7s.align',\n",
              " 'data/alignments/s1/pgwe8p.align',\n",
              " 'data/alignments/s1/pgwe9a.align',\n",
              " 'data/alignments/s1/pgwl1s.align',\n",
              " 'data/alignments/s1/pgwl2p.align',\n",
              " 'data/alignments/s1/pgwl3a.align',\n",
              " 'data/alignments/s1/pgwlzn.align',\n",
              " 'data/alignments/s1/pgwr4n.align',\n",
              " 'data/alignments/s1/pgwr5s.align',\n",
              " 'data/alignments/s1/pgwr6p.align',\n",
              " 'data/alignments/s1/pgwr7a.align',\n",
              " 'data/alignments/s1/pgwy8n.align',\n",
              " 'data/alignments/s1/pgwy9s.align',\n",
              " 'data/alignments/s1/pgwz1a.align',\n",
              " 'data/alignments/s1/pgwzzp.align',\n",
              " 'data/alignments/s1/prac6n.align',\n",
              " 'data/alignments/s1/prac7s.align',\n",
              " 'data/alignments/s1/prac8p.align',\n",
              " 'data/alignments/s1/prac9a.align',\n",
              " 'data/alignments/s1/praj1s.align',\n",
              " 'data/alignments/s1/praj2p.align',\n",
              " 'data/alignments/s1/praj3a.align',\n",
              " 'data/alignments/s1/prajzn.align',\n",
              " 'data/alignments/s1/prap4n.align',\n",
              " 'data/alignments/s1/prap5s.align',\n",
              " 'data/alignments/s1/prap6p.align',\n",
              " 'data/alignments/s1/prap7a.align',\n",
              " 'data/alignments/s1/prav8n.align',\n",
              " 'data/alignments/s1/prav9s.align',\n",
              " 'data/alignments/s1/prax1a.align',\n",
              " 'data/alignments/s1/praxzp.align',\n",
              " 'data/alignments/s1/prbd1s.align',\n",
              " 'data/alignments/s1/prbd2p.align',\n",
              " 'data/alignments/s1/prbd3a.align',\n",
              " 'data/alignments/s1/prbdzn.align',\n",
              " 'data/alignments/s1/prbj4n.align',\n",
              " 'data/alignments/s1/prbj5s.align',\n",
              " 'data/alignments/s1/prbj6p.align',\n",
              " 'data/alignments/s1/prbj7a.align',\n",
              " 'data/alignments/s1/prbp8n.align',\n",
              " 'data/alignments/s1/prbp9s.align',\n",
              " 'data/alignments/s1/prbq1a.align',\n",
              " 'data/alignments/s1/prbqzp.align',\n",
              " 'data/alignments/s1/prbx2n.align',\n",
              " 'data/alignments/s1/prbx3s.align',\n",
              " 'data/alignments/s1/prbx4p.align',\n",
              " 'data/alignments/s1/prbx5a.align',\n",
              " 'data/alignments/s1/pric2n.align',\n",
              " 'data/alignments/s1/pric3s.align',\n",
              " 'data/alignments/s1/pric4p.align',\n",
              " 'data/alignments/s1/pric5a.align',\n",
              " 'data/alignments/s1/prii6n.align',\n",
              " 'data/alignments/s1/prii7s.align',\n",
              " 'data/alignments/s1/prii8p.align',\n",
              " 'data/alignments/s1/prii9a.align',\n",
              " 'data/alignments/s1/prip1s.align',\n",
              " 'data/alignments/s1/prip2p.align',\n",
              " 'data/alignments/s1/prip3a.align',\n",
              " 'data/alignments/s1/pripzn.align',\n",
              " 'data/alignments/s1/priv4n.align',\n",
              " 'data/alignments/s1/priv5s.align',\n",
              " 'data/alignments/s1/priv6p.align',\n",
              " 'data/alignments/s1/priv7a.align',\n",
              " 'data/alignments/s1/prwd4n.align',\n",
              " 'data/alignments/s1/prwd5s.align',\n",
              " 'data/alignments/s1/prwd6p.align',\n",
              " 'data/alignments/s1/prwd7a.align',\n",
              " 'data/alignments/s1/prwj8n.align',\n",
              " 'data/alignments/s1/prwj9s.align',\n",
              " 'data/alignments/s1/prwk1a.align',\n",
              " 'data/alignments/s1/prwkzp.align',\n",
              " 'data/alignments/s1/prwq2n.align',\n",
              " 'data/alignments/s1/prwq3s.align',\n",
              " 'data/alignments/s1/prwq4p.align',\n",
              " 'data/alignments/s1/prwq5a.align',\n",
              " 'data/alignments/s1/prwx6n.align',\n",
              " 'data/alignments/s1/prwx7s.align',\n",
              " 'data/alignments/s1/prwx8p.align',\n",
              " 'data/alignments/s1/prwx9a.align',\n",
              " 'data/alignments/s1/pwad2n.align',\n",
              " 'data/alignments/s1/pwad3s.align',\n",
              " 'data/alignments/s1/pwad4p.align',\n",
              " 'data/alignments/s1/pwad5a.align',\n",
              " 'data/alignments/s1/pwaj6n.align',\n",
              " 'data/alignments/s1/pwaj7s.align',\n",
              " 'data/alignments/s1/pwaj8p.align',\n",
              " 'data/alignments/s1/pwaj9a.align',\n",
              " 'data/alignments/s1/pwaq1s.align',\n",
              " 'data/alignments/s1/pwaq2p.align',\n",
              " 'data/alignments/s1/pwaq3a.align',\n",
              " 'data/alignments/s1/pwaqzn.align',\n",
              " 'data/alignments/s1/pwax4n.align',\n",
              " 'data/alignments/s1/pwax5s.align',\n",
              " 'data/alignments/s1/pwax6p.align',\n",
              " 'data/alignments/s1/pwax7a.align',\n",
              " 'data/alignments/s1/pwbd6n.align',\n",
              " 'data/alignments/s1/pwbd7s.align',\n",
              " 'data/alignments/s1/pwbd8p.align',\n",
              " 'data/alignments/s1/pwbd9a.align',\n",
              " 'data/alignments/s1/pwbk1s.align',\n",
              " 'data/alignments/s1/pwbk2p.align',\n",
              " 'data/alignments/s1/pwbk3a.align',\n",
              " 'data/alignments/s1/pwbkzn.align',\n",
              " 'data/alignments/s1/pwbq4n.align',\n",
              " 'data/alignments/s1/pwbq5s.align',\n",
              " 'data/alignments/s1/pwbq6p.align',\n",
              " 'data/alignments/s1/pwbq7a.align',\n",
              " 'data/alignments/s1/pwbx8n.align',\n",
              " 'data/alignments/s1/pwbx9s.align',\n",
              " 'data/alignments/s1/pwby1a.align',\n",
              " 'data/alignments/s1/pwbyzp.align',\n",
              " 'data/alignments/s1/pwic8n.align',\n",
              " 'data/alignments/s1/pwic9s.align',\n",
              " 'data/alignments/s1/pwid1a.align',\n",
              " 'data/alignments/s1/pwidzp.align',\n",
              " 'data/alignments/s1/pwij2n.align',\n",
              " 'data/alignments/s1/pwij3s.align',\n",
              " 'data/alignments/s1/pwij4p.align',\n",
              " 'data/alignments/s1/pwij5a.align',\n",
              " 'data/alignments/s1/pwip6n.align',\n",
              " 'data/alignments/s1/pwip7s.align',\n",
              " 'data/alignments/s1/pwip8p.align',\n",
              " 'data/alignments/s1/pwip9a.align',\n",
              " 'data/alignments/s1/pwix1s.align',\n",
              " 'data/alignments/s1/pwix2p.align',\n",
              " 'data/alignments/s1/pwix3a.align',\n",
              " 'data/alignments/s1/pwixzn.align',\n",
              " 'data/alignments/s1/pwwe1s.align',\n",
              " 'data/alignments/s1/pwwe2p.align',\n",
              " 'data/alignments/s1/pwwe3a.align',\n",
              " 'data/alignments/s1/pwwezn.align',\n",
              " 'data/alignments/s1/pwwk4n.align',\n",
              " 'data/alignments/s1/pwwk5s.align',\n",
              " 'data/alignments/s1/pwwk6p.align',\n",
              " 'data/alignments/s1/pwwk7a.align',\n",
              " 'data/alignments/s1/pwwq8n.align',\n",
              " 'data/alignments/s1/pwwq9s.align',\n",
              " 'data/alignments/s1/pwwr1a.align',\n",
              " 'data/alignments/s1/pwwrzp.align',\n",
              " 'data/alignments/s1/pwwy2n.align',\n",
              " 'data/alignments/s1/pwwy3s.align',\n",
              " 'data/alignments/s1/pwwy4p.align',\n",
              " 'data/alignments/s1/pwwy5a.align',\n",
              " 'data/alignments/s1/sbaa4n.align',\n",
              " 'data/alignments/s1/sbaa5s.align',\n",
              " 'data/alignments/s1/sbaa6p.align',\n",
              " 'data/alignments/s1/sbaa7a.align',\n",
              " 'data/alignments/s1/sbag8n.align',\n",
              " 'data/alignments/s1/sbag9s.align',\n",
              " 'data/alignments/s1/sbah1a.align',\n",
              " 'data/alignments/s1/sbahzp.align',\n",
              " 'data/alignments/s1/sban2n.align',\n",
              " 'data/alignments/s1/sban3s.align',\n",
              " 'data/alignments/s1/sban4p.align',\n",
              " 'data/alignments/s1/sban5a.align',\n",
              " 'data/alignments/s1/sbat6n.align',\n",
              " 'data/alignments/s1/sbat7s.align',\n",
              " 'data/alignments/s1/sbat8p.align',\n",
              " 'data/alignments/s1/sbat9a.align',\n",
              " 'data/alignments/s1/sbba8n.align',\n",
              " 'data/alignments/s1/sbba9s.align',\n",
              " 'data/alignments/s1/sbbb1a.align',\n",
              " 'data/alignments/s1/sbbbzp.align',\n",
              " 'data/alignments/s1/sbbh2n.align',\n",
              " 'data/alignments/s1/sbbh3s.align',\n",
              " 'data/alignments/s1/sbbh4p.align',\n",
              " 'data/alignments/s1/sbbh5a.align',\n",
              " 'data/alignments/s1/sbbn6n.align',\n",
              " 'data/alignments/s1/sbbn7s.align',\n",
              " 'data/alignments/s1/sbbn8p.align',\n",
              " 'data/alignments/s1/sbbn9a.align',\n",
              " 'data/alignments/s1/sbbu1s.align',\n",
              " 'data/alignments/s1/sbbu2p.align',\n",
              " 'data/alignments/s1/sbbu3a.align',\n",
              " 'data/alignments/s1/sbbuzn.align',\n",
              " 'data/alignments/s1/sbia1s.align',\n",
              " 'data/alignments/s1/sbia2p.align',\n",
              " 'data/alignments/s1/sbia3a.align',\n",
              " 'data/alignments/s1/sbiazn.align',\n",
              " 'data/alignments/s1/sbig4n.align',\n",
              " 'data/alignments/s1/sbig5s.align',\n",
              " 'data/alignments/s1/sbig6p.align',\n",
              " 'data/alignments/s1/sbig7a.align',\n",
              " 'data/alignments/s1/sbim8n.align',\n",
              " 'data/alignments/s1/sbim9s.align',\n",
              " 'data/alignments/s1/sbin1a.align',\n",
              " 'data/alignments/s1/sbinzp.align',\n",
              " 'data/alignments/s1/sbit2n.align',\n",
              " 'data/alignments/s1/sbit3s.align',\n",
              " 'data/alignments/s1/sbit4p.align',\n",
              " 'data/alignments/s1/sbit5a.align',\n",
              " 'data/alignments/s1/sbwb2n.align',\n",
              " 'data/alignments/s1/sbwb3s.align',\n",
              " 'data/alignments/s1/sbwb4p.align',\n",
              " 'data/alignments/s1/sbwb5a.align',\n",
              " 'data/alignments/s1/sbwh6n.align',\n",
              " 'data/alignments/s1/sbwh7s.align',\n",
              " 'data/alignments/s1/sbwh8p.align',\n",
              " 'data/alignments/s1/sbwh9a.align',\n",
              " 'data/alignments/s1/sbwo1s.align',\n",
              " 'data/alignments/s1/sbwo2p.align',\n",
              " 'data/alignments/s1/sbwo3a.align',\n",
              " 'data/alignments/s1/sbwozn.align',\n",
              " 'data/alignments/s1/sbwu4n.align',\n",
              " 'data/alignments/s1/sbwu5s.align',\n",
              " 'data/alignments/s1/sbwu6p.align',\n",
              " 'data/alignments/s1/sbwu7a.align',\n",
              " 'data/alignments/s1/sgac2n.align',\n",
              " 'data/alignments/s1/sgac3s.align',\n",
              " 'data/alignments/s1/sgac4p.align',\n",
              " 'data/alignments/s1/sgac5a.align',\n",
              " 'data/alignments/s1/sgai6n.align',\n",
              " 'data/alignments/s1/sgai7s.align',\n",
              " 'data/alignments/s1/sgai8p.align',\n",
              " 'data/alignments/s1/sgai9a.align',\n",
              " 'data/alignments/s1/sgap1s.align',\n",
              " 'data/alignments/s1/sgap2p.align',\n",
              " 'data/alignments/s1/sgap3a.align',\n",
              " 'data/alignments/s1/sgapzn.align',\n",
              " 'data/alignments/s1/sgav4n.align',\n",
              " 'data/alignments/s1/sgav5s.align',\n",
              " 'data/alignments/s1/sgav6p.align',\n",
              " 'data/alignments/s1/sgav7a.align',\n",
              " 'data/alignments/s1/sgbc6n.align',\n",
              " 'data/alignments/s1/sgbc7s.align',\n",
              " 'data/alignments/s1/sgbc8p.align',\n",
              " 'data/alignments/s1/sgbc9a.align',\n",
              " 'data/alignments/s1/sgbj1s.align',\n",
              " 'data/alignments/s1/sgbj2p.align',\n",
              " 'data/alignments/s1/sgbj3a.align',\n",
              " 'data/alignments/s1/sgbjzn.align',\n",
              " 'data/alignments/s1/sgbp4n.align',\n",
              " 'data/alignments/s1/sgbp5s.align',\n",
              " 'data/alignments/s1/sgbp6p.align',\n",
              " 'data/alignments/s1/sgbp7a.align',\n",
              " 'data/alignments/s1/sgbv8n.align',\n",
              " 'data/alignments/s1/sgbv9s.align',\n",
              " 'data/alignments/s1/sgbx1a.align',\n",
              " 'data/alignments/s1/sgbxzp.align',\n",
              " 'data/alignments/s1/sgib8n.align',\n",
              " 'data/alignments/s1/sgib9s.align',\n",
              " 'data/alignments/s1/sgic1a.align',\n",
              " 'data/alignments/s1/sgiczp.align',\n",
              " 'data/alignments/s1/sgii2n.align',\n",
              " 'data/alignments/s1/sgii3s.align',\n",
              " 'data/alignments/s1/sgii4p.align',\n",
              " 'data/alignments/s1/sgii5a.align',\n",
              " 'data/alignments/s1/sgio6n.align',\n",
              " 'data/alignments/s1/sgio7s.align',\n",
              " 'data/alignments/s1/sgio8p.align',\n",
              " 'data/alignments/s1/sgio9a.align',\n",
              " 'data/alignments/s1/sgiv1s.align',\n",
              " 'data/alignments/s1/sgiv2p.align',\n",
              " 'data/alignments/s1/sgiv3a.align',\n",
              " 'data/alignments/s1/sgivzn.align',\n",
              " 'data/alignments/s1/sgwd1s.align',\n",
              " 'data/alignments/s1/sgwd2p.align',\n",
              " 'data/alignments/s1/sgwd3a.align',\n",
              " 'data/alignments/s1/sgwdzn.align',\n",
              " 'data/alignments/s1/sgwj4n.align',\n",
              " 'data/alignments/s1/sgwj5s.align',\n",
              " 'data/alignments/s1/sgwj6p.align',\n",
              " 'data/alignments/s1/sgwj7a.align',\n",
              " 'data/alignments/s1/sgwp8n.align',\n",
              " 'data/alignments/s1/sgwp9s.align',\n",
              " 'data/alignments/s1/sgwq1a.align',\n",
              " 'data/alignments/s1/sgwqzp.align',\n",
              " 'data/alignments/s1/sgwx2n.align',\n",
              " 'data/alignments/s1/sgwx3s.align',\n",
              " 'data/alignments/s1/sgwx4p.align',\n",
              " 'data/alignments/s1/sgwx5a.align',\n",
              " 'data/alignments/s1/srab1s.align',\n",
              " 'data/alignments/s1/srab2p.align',\n",
              " 'data/alignments/s1/srab3a.align',\n",
              " 'data/alignments/s1/srabzn.align',\n",
              " 'data/alignments/s1/srah4n.align',\n",
              " 'data/alignments/s1/srah5s.align',\n",
              " 'data/alignments/s1/srah6p.align',\n",
              " 'data/alignments/s1/srah7a.align',\n",
              " 'data/alignments/s1/sran8n.align',\n",
              " 'data/alignments/s1/sran9s.align',\n",
              " 'data/alignments/s1/srao1a.align',\n",
              " 'data/alignments/s1/sraozp.align',\n",
              " 'data/alignments/s1/srau2n.align',\n",
              " 'data/alignments/s1/srau3s.align',\n",
              " 'data/alignments/s1/srau4p.align',\n",
              " 'data/alignments/s1/srau5a.align',\n",
              " 'data/alignments/s1/srbb4n.align',\n",
              " 'data/alignments/s1/srbb5s.align',\n",
              " 'data/alignments/s1/srbb6p.align',\n",
              " 'data/alignments/s1/srbb7a.align',\n",
              " 'data/alignments/s1/srbh8n.align',\n",
              " 'data/alignments/s1/srbh9s.align',\n",
              " 'data/alignments/s1/srbi1a.align',\n",
              " 'data/alignments/s1/srbizp.align',\n",
              " 'data/alignments/s1/srbo2n.align',\n",
              " 'data/alignments/s1/srbo3s.align',\n",
              " 'data/alignments/s1/srbo4p.align',\n",
              " 'data/alignments/s1/srbo5a.align',\n",
              " 'data/alignments/s1/srbu6n.align',\n",
              " 'data/alignments/s1/srbu7s.align',\n",
              " 'data/alignments/s1/srbu8p.align',\n",
              " 'data/alignments/s1/srbu9a.align',\n",
              " 'data/alignments/s1/sria6n.align',\n",
              " 'data/alignments/s1/sria7s.align',\n",
              " 'data/alignments/s1/sria8p.align',\n",
              " 'data/alignments/s1/sria9a.align',\n",
              " 'data/alignments/s1/srih1s.align',\n",
              " 'data/alignments/s1/srih2p.align',\n",
              " 'data/alignments/s1/srih3a.align',\n",
              " 'data/alignments/s1/srihzn.align',\n",
              " 'data/alignments/s1/srin4n.align',\n",
              " 'data/alignments/s1/srin5s.align',\n",
              " 'data/alignments/s1/srin6p.align',\n",
              " 'data/alignments/s1/srin7a.align',\n",
              " 'data/alignments/s1/srit8n.align',\n",
              " 'data/alignments/s1/srit9s.align',\n",
              " 'data/alignments/s1/sriu1a.align',\n",
              " 'data/alignments/s1/sriuzp.align',\n",
              " 'data/alignments/s1/srwb8n.align',\n",
              " 'data/alignments/s1/srwb9s.align',\n",
              " 'data/alignments/s1/srwc1a.align',\n",
              " 'data/alignments/s1/srwczp.align',\n",
              " 'data/alignments/s1/srwi2n.align',\n",
              " 'data/alignments/s1/srwi3s.align',\n",
              " 'data/alignments/s1/srwi4p.align',\n",
              " 'data/alignments/s1/srwi5a.align',\n",
              " 'data/alignments/s1/srwo6n.align',\n",
              " 'data/alignments/s1/srwo7s.align',\n",
              " 'data/alignments/s1/srwo8p.align',\n",
              " 'data/alignments/s1/srwo9a.align',\n",
              " 'data/alignments/s1/srwv1s.align',\n",
              " 'data/alignments/s1/srwv2p.align',\n",
              " 'data/alignments/s1/srwv3a.align',\n",
              " 'data/alignments/s1/srwvzn.align',\n",
              " 'data/alignments/s1/swab6n.align',\n",
              " 'data/alignments/s1/swab7s.align',\n",
              " 'data/alignments/s1/swab8p.align',\n",
              " 'data/alignments/s1/swab9a.align',\n",
              " 'data/alignments/s1/swai1s.align',\n",
              " 'data/alignments/s1/swai2p.align',\n",
              " 'data/alignments/s1/swai3a.align',\n",
              " 'data/alignments/s1/swaizn.align',\n",
              " 'data/alignments/s1/swao4n.align',\n",
              " 'data/alignments/s1/swao5s.align',\n",
              " 'data/alignments/s1/swao6p.align',\n",
              " 'data/alignments/s1/swao7a.align',\n",
              " 'data/alignments/s1/swau8n.align',\n",
              " 'data/alignments/s1/swau9s.align',\n",
              " 'data/alignments/s1/swav1a.align',\n",
              " 'data/alignments/s1/swavzp.align',\n",
              " 'data/alignments/s1/swbc1s.align',\n",
              " 'data/alignments/s1/swbc2p.align',\n",
              " 'data/alignments/s1/swbc3a.align',\n",
              " 'data/alignments/s1/swbczn.align',\n",
              " 'data/alignments/s1/swbi4n.align',\n",
              " 'data/alignments/s1/swbi5s.align',\n",
              " 'data/alignments/s1/swbi6p.align',\n",
              " 'data/alignments/s1/swbi7a.align',\n",
              " 'data/alignments/s1/swbo8n.align',\n",
              " 'data/alignments/s1/swbo9s.align',\n",
              " 'data/alignments/s1/swbp1a.align',\n",
              " 'data/alignments/s1/swbpzp.align',\n",
              " 'data/alignments/s1/swbv2n.align',\n",
              " 'data/alignments/s1/swbv3s.align',\n",
              " 'data/alignments/s1/swbv4p.align',\n",
              " 'data/alignments/s1/swbv5a.align',\n",
              " 'data/alignments/s1/swib2n.align',\n",
              " 'data/alignments/s1/swib3s.align',\n",
              " 'data/alignments/s1/swib4p.align',\n",
              " 'data/alignments/s1/swib5a.align',\n",
              " 'data/alignments/s1/swih6n.align',\n",
              " 'data/alignments/s1/swih7s.align',\n",
              " 'data/alignments/s1/swih8p.align',\n",
              " 'data/alignments/s1/swih9a.align',\n",
              " 'data/alignments/s1/swio1s.align',\n",
              " 'data/alignments/s1/swio2p.align',\n",
              " 'data/alignments/s1/swio3a.align',\n",
              " 'data/alignments/s1/swiozn.align',\n",
              " 'data/alignments/s1/swiu4n.align',\n",
              " 'data/alignments/s1/swiu5s.align',\n",
              " 'data/alignments/s1/swiu6p.align',\n",
              " 'data/alignments/s1/swiu7a.align',\n",
              " 'data/alignments/s1/swwc4n.align',\n",
              " 'data/alignments/s1/swwc5s.align',\n",
              " 'data/alignments/s1/swwc6p.align',\n",
              " 'data/alignments/s1/swwc7a.align',\n",
              " 'data/alignments/s1/swwi8n.align',\n",
              " 'data/alignments/s1/swwi9s.align',\n",
              " 'data/alignments/s1/swwj1a.align',\n",
              " 'data/alignments/s1/swwjzp.align',\n",
              " 'data/alignments/s1/swwp2n.align',\n",
              " 'data/alignments/s1/swwp3s.align',\n",
              " 'data/alignments/s1/swwp4p.align',\n",
              " 'data/alignments/s1/swwp5a.align',\n",
              " 'data/alignments/s1/swwv6n.align',\n",
              " ...]"
            ]
          },
          "metadata": {},
          "execution_count": 6
        }
      ]
    },
    {
      "cell_type": "code",
      "source": [
        "def load_video(path:str) -> List[float]:\n",
        "\n",
        "    cap = cv2.VideoCapture(path)\n",
        "    frames = []\n",
        "    for _ in range(int(cap.get(cv2.CAP_PROP_FRAME_COUNT))):\n",
        "        ret, frame = cap.read()\n",
        "        frame = tf.image.rgb_to_grayscale(frame)\n",
        "        frames.append(frame[190:236,80:220,:])\n",
        "    cap.release()\n",
        "\n",
        "    mean = tf.math.reduce_mean(frames)\n",
        "    std = tf.math.reduce_std(tf.cast(frames, tf.float32))\n",
        "    return tf.cast((frames - mean), tf.float32) / std\n",
        "\n"
      ],
      "metadata": {
        "id": "hN9DgPRC47KO"
      },
      "execution_count": 7,
      "outputs": []
    },
    {
      "cell_type": "code",
      "source": [
        "vocab = [x for x in \"abcdefghijklmnopqrstuvwxyz'?!123456789 \"]"
      ],
      "metadata": {
        "id": "3Yb2wyeM5BjN"
      },
      "execution_count": 8,
      "outputs": []
    },
    {
      "cell_type": "code",
      "source": [
        "char_to_num = tf.keras.layers.StringLookup(vocabulary=vocab, oov_token=\"\")\n",
        "num_to_char = tf.keras.layers.StringLookup(\n",
        "    vocabulary=char_to_num.get_vocabulary(), oov_token=\"\", invert=True\n",
        ")\n",
        "\n",
        "print(\n",
        "    f\"The vocabulary is: {char_to_num.get_vocabulary()} \"\n",
        "    f\"(size ={char_to_num.vocabulary_size()})\"\n",
        ")"
      ],
      "metadata": {
        "colab": {
          "base_uri": "https://localhost:8080/"
        },
        "id": "3ntLiFsg5E7X",
        "outputId": "0d280c61-0813-4926-b7af-537351ceb1e6"
      },
      "execution_count": 9,
      "outputs": [
        {
          "output_type": "stream",
          "name": "stdout",
          "text": [
            "The vocabulary is: ['', 'a', 'b', 'c', 'd', 'e', 'f', 'g', 'h', 'i', 'j', 'k', 'l', 'm', 'n', 'o', 'p', 'q', 'r', 's', 't', 'u', 'v', 'w', 'x', 'y', 'z', \"'\", '?', '!', '1', '2', '3', '4', '5', '6', '7', '8', '9', ' '] (size =40)\n"
          ]
        }
      ]
    },
    {
      "cell_type": "code",
      "source": [
        "def load_alignments(path:str) -> List[str]:\n",
        "    with open(path, 'r') as f:\n",
        "        lines = f.readlines()\n",
        "    tokens = []\n",
        "    for line in lines:\n",
        "        line = line.split()\n",
        "        if line[2] != 'sil':\n",
        "            tokens = [*tokens,' ',line[2]]\n",
        "    return char_to_num(tf.reshape(tf.strings.unicode_split(tokens, input_encoding='UTF-8'), (-1)))[1:]\n",
        "\n"
      ],
      "metadata": {
        "id": "qr9U7dH45IUA"
      },
      "execution_count": 10,
      "outputs": []
    },
    {
      "cell_type": "code",
      "source": [
        "def load_data(path: str):\n",
        "    path = bytes.decode(path.numpy())\n",
        "    #file_name = path.split('/')[-1].split('.')[0]\n",
        "    # File name splitting for windows\n",
        "    file_name = path.split('/')[-1].split('.')[0]\n",
        "    video_path = os.path.join('data','s1',f'{file_name}.mpg')\n",
        "    alignment_path = os.path.join('data','alignments','s1',f'{file_name}.align')\n",
        "    frames = load_video(video_path)\n",
        "    alignments = load_alignments(alignment_path)\n",
        "\n",
        "    return frames, alignments"
      ],
      "metadata": {
        "id": "qEkKyYNm5Mgi"
      },
      "execution_count": 11,
      "outputs": []
    },
    {
      "cell_type": "code",
      "source": [
        "test_path = '.data/s1/bbal6n.mpg'"
      ],
      "metadata": {
        "id": "pyLvsO-r5QPl"
      },
      "execution_count": 12,
      "outputs": []
    },
    {
      "cell_type": "code",
      "source": [
        "tf.convert_to_tensor(test_path).numpy().decode('utf-8').split('/')[-1].split('.')[0]"
      ],
      "metadata": {
        "colab": {
          "base_uri": "https://localhost:8080/",
          "height": 36
        },
        "id": "0hvwWXti5Up4",
        "outputId": "1af280a3-b703-4d3b-f2b8-6703063d2a71"
      },
      "execution_count": 13,
      "outputs": [
        {
          "output_type": "execute_result",
          "data": {
            "text/plain": [
              "'bbal6n'"
            ],
            "application/vnd.google.colaboratory.intrinsic+json": {
              "type": "string"
            }
          },
          "metadata": {},
          "execution_count": 13
        }
      ]
    },
    {
      "cell_type": "code",
      "source": [
        "load_data(tf.convert_to_tensor(test_path))"
      ],
      "metadata": {
        "colab": {
          "base_uri": "https://localhost:8080/"
        },
        "id": "dsFWBPN75Y7E",
        "outputId": "4134b408-a440-45db-db73-a6f2e04ef754"
      },
      "execution_count": 14,
      "outputs": [
        {
          "output_type": "execute_result",
          "data": {
            "text/plain": [
              "(<tf.Tensor: shape=(75, 46, 140, 1), dtype=float32, numpy=\n",
              " array([[[[ 1.460374  ],\n",
              "          [ 1.460374  ],\n",
              "          [ 1.4209044 ],\n",
              "          ...,\n",
              "          [ 0.15787826],\n",
              "          [ 0.19734783],\n",
              "          [ 0.07893913]],\n",
              " \n",
              "         [[ 1.460374  ],\n",
              "          [ 1.460374  ],\n",
              "          [ 1.4209044 ],\n",
              "          ...,\n",
              "          [ 0.15787826],\n",
              "          [ 0.07893913],\n",
              "          [ 0.03946957]],\n",
              " \n",
              "         [[ 1.4209044 ],\n",
              "          [ 1.4209044 ],\n",
              "          [ 1.3814349 ],\n",
              "          ...,\n",
              "          [ 0.07893913],\n",
              "          [ 0.07893913],\n",
              "          [ 0.07893913]],\n",
              " \n",
              "         ...,\n",
              " \n",
              "         [[ 0.9472696 ],\n",
              "          [ 0.9472696 ],\n",
              "          [ 0.9472696 ],\n",
              "          ...,\n",
              "          [ 9.946331  ],\n",
              "          [ 9.867392  ],\n",
              "          [ 9.867392  ]],\n",
              " \n",
              "         [[ 0.9472696 ],\n",
              "          [ 0.9472696 ],\n",
              "          [ 0.9472696 ],\n",
              "          ...,\n",
              "          [ 9.906861  ],\n",
              "          [ 9.867392  ],\n",
              "          [ 9.867392  ]],\n",
              " \n",
              "         [[ 0.9472696 ],\n",
              "          [ 0.9472696 ],\n",
              "          [ 0.9472696 ],\n",
              "          ...,\n",
              "          [ 9.906861  ],\n",
              "          [ 9.867392  ],\n",
              "          [ 9.867392  ]]],\n",
              " \n",
              " \n",
              "        [[[ 1.4209044 ],\n",
              "          [ 1.4209044 ],\n",
              "          [ 1.3419653 ],\n",
              "          ...,\n",
              "          [ 0.19734783],\n",
              "          [ 0.1184087 ],\n",
              "          [ 0.15787826]],\n",
              " \n",
              "         [[ 1.4209044 ],\n",
              "          [ 1.4209044 ],\n",
              "          [ 1.3419653 ],\n",
              "          ...,\n",
              "          [ 0.2368174 ],\n",
              "          [ 0.        ],\n",
              "          [ 0.03946957]],\n",
              " \n",
              "         [[ 1.3419653 ],\n",
              "          [ 1.3419653 ],\n",
              "          [ 1.3024957 ],\n",
              "          ...,\n",
              "          [ 0.1184087 ],\n",
              "          [ 0.15787826],\n",
              "          [ 0.15787826]],\n",
              " \n",
              "         ...,\n",
              " \n",
              "         [[ 0.9472696 ],\n",
              "          [ 0.9472696 ],\n",
              "          [ 0.9472696 ],\n",
              "          ...,\n",
              "          [10.02527   ],\n",
              "          [ 9.946331  ],\n",
              "          [ 9.946331  ]],\n",
              " \n",
              "         [[ 0.9078001 ],\n",
              "          [ 0.9078001 ],\n",
              "          [ 0.9078001 ],\n",
              "          ...,\n",
              "          [ 9.946331  ],\n",
              "          [ 9.906861  ],\n",
              "          [ 9.906861  ]],\n",
              " \n",
              "         [[ 0.9078001 ],\n",
              "          [ 0.9078001 ],\n",
              "          [ 0.9078001 ],\n",
              "          ...,\n",
              "          [ 9.946331  ],\n",
              "          [ 9.906861  ],\n",
              "          [ 9.906861  ]]],\n",
              " \n",
              " \n",
              "        [[[ 1.4209044 ],\n",
              "          [ 1.4209044 ],\n",
              "          [ 1.3419653 ],\n",
              "          ...,\n",
              "          [ 0.15787826],\n",
              "          [ 0.07893913],\n",
              "          [ 0.15787826]],\n",
              " \n",
              "         [[ 1.4209044 ],\n",
              "          [ 1.4209044 ],\n",
              "          [ 1.3419653 ],\n",
              "          ...,\n",
              "          [ 0.27628696],\n",
              "          [ 0.03946957],\n",
              "          [ 0.15787826]],\n",
              " \n",
              "         [[ 1.3419653 ],\n",
              "          [ 1.3024957 ],\n",
              "          [ 1.3419653 ],\n",
              "          ...,\n",
              "          [ 0.1184087 ],\n",
              "          [ 0.1184087 ],\n",
              "          [ 0.1184087 ]],\n",
              " \n",
              "         ...,\n",
              " \n",
              "         [[ 0.98673916],\n",
              "          [ 0.98673916],\n",
              "          [ 0.9472696 ],\n",
              "          ...,\n",
              "          [ 9.985801  ],\n",
              "          [ 9.985801  ],\n",
              "          [ 9.985801  ]],\n",
              " \n",
              "         [[ 0.9472696 ],\n",
              "          [ 0.9472696 ],\n",
              "          [ 0.9078001 ],\n",
              "          ...,\n",
              "          [ 9.946331  ],\n",
              "          [ 9.906861  ],\n",
              "          [ 9.906861  ]],\n",
              " \n",
              "         [[ 0.9472696 ],\n",
              "          [ 0.9472696 ],\n",
              "          [ 0.9078001 ],\n",
              "          ...,\n",
              "          [ 9.946331  ],\n",
              "          [ 9.906861  ],\n",
              "          [ 9.906861  ]]],\n",
              " \n",
              " \n",
              "        ...,\n",
              " \n",
              " \n",
              "        [[[ 1.3814349 ],\n",
              "          [ 1.3814349 ],\n",
              "          [ 1.4209044 ],\n",
              "          ...,\n",
              "          [ 0.19734783],\n",
              "          [ 0.15787826],\n",
              "          [ 0.07893913]],\n",
              " \n",
              "         [[ 1.3814349 ],\n",
              "          [ 1.3814349 ],\n",
              "          [ 1.4209044 ],\n",
              "          ...,\n",
              "          [ 0.1184087 ],\n",
              "          [ 0.1184087 ],\n",
              "          [ 0.07893913]],\n",
              " \n",
              "         [[ 1.3024957 ],\n",
              "          [ 1.3024957 ],\n",
              "          [ 1.3024957 ],\n",
              "          ...,\n",
              "          [ 0.1184087 ],\n",
              "          [ 0.1184087 ],\n",
              "          [ 0.15787826]],\n",
              " \n",
              "         ...,\n",
              " \n",
              "         [[ 0.98673916],\n",
              "          [ 0.9472696 ],\n",
              "          [ 0.9472696 ],\n",
              "          ...,\n",
              "          [ 9.906861  ],\n",
              "          [ 9.867392  ],\n",
              "          [ 9.867392  ]],\n",
              " \n",
              "         [[ 0.9472696 ],\n",
              "          [ 0.9472696 ],\n",
              "          [ 0.9472696 ],\n",
              "          ...,\n",
              "          [ 9.906861  ],\n",
              "          [ 9.867392  ],\n",
              "          [ 9.867392  ]],\n",
              " \n",
              "         [[ 0.9472696 ],\n",
              "          [ 0.9472696 ],\n",
              "          [ 0.9472696 ],\n",
              "          ...,\n",
              "          [ 9.906861  ],\n",
              "          [ 9.867392  ],\n",
              "          [ 9.867392  ]]],\n",
              " \n",
              " \n",
              "        [[[ 1.3419653 ],\n",
              "          [ 1.3419653 ],\n",
              "          [ 1.3814349 ],\n",
              "          ...,\n",
              "          [ 0.15787826],\n",
              "          [ 0.07893913],\n",
              "          [ 0.        ]],\n",
              " \n",
              "         [[ 1.3419653 ],\n",
              "          [ 1.3419653 ],\n",
              "          [ 1.3814349 ],\n",
              "          ...,\n",
              "          [ 0.15787826],\n",
              "          [ 0.1184087 ],\n",
              "          [ 0.03946957]],\n",
              " \n",
              "         [[ 1.3024957 ],\n",
              "          [ 1.3024957 ],\n",
              "          [ 1.3024957 ],\n",
              "          ...,\n",
              "          [ 0.1184087 ],\n",
              "          [ 0.07893913],\n",
              "          [ 0.1184087 ]],\n",
              " \n",
              "         ...,\n",
              " \n",
              "         [[ 0.9472696 ],\n",
              "          [ 0.9078001 ],\n",
              "          [ 0.9078001 ],\n",
              "          ...,\n",
              "          [ 9.867392  ],\n",
              "          [ 9.827922  ],\n",
              "          [ 9.827922  ]],\n",
              " \n",
              "         [[ 0.9078001 ],\n",
              "          [ 0.9078001 ],\n",
              "          [ 0.9078001 ],\n",
              "          ...,\n",
              "          [ 9.867392  ],\n",
              "          [ 9.827922  ],\n",
              "          [ 9.827922  ]],\n",
              " \n",
              "         [[ 0.9078001 ],\n",
              "          [ 0.9078001 ],\n",
              "          [ 0.9078001 ],\n",
              "          ...,\n",
              "          [ 9.867392  ],\n",
              "          [ 9.827922  ],\n",
              "          [ 9.827922  ]]],\n",
              " \n",
              " \n",
              "        [[[ 1.3024957 ],\n",
              "          [ 1.3024957 ],\n",
              "          [ 1.3814349 ],\n",
              "          ...,\n",
              "          [ 0.07893913],\n",
              "          [ 0.07893913],\n",
              "          [ 0.15787826]],\n",
              " \n",
              "         [[ 1.3024957 ],\n",
              "          [ 1.3024957 ],\n",
              "          [ 1.3814349 ],\n",
              "          ...,\n",
              "          [ 0.        ],\n",
              "          [ 0.07893913],\n",
              "          [ 0.2368174 ]],\n",
              " \n",
              "         [[ 1.3419653 ],\n",
              "          [ 1.3419653 ],\n",
              "          [ 1.3419653 ],\n",
              "          ...,\n",
              "          [ 0.07893913],\n",
              "          [ 0.07893913],\n",
              "          [ 0.07893913]],\n",
              " \n",
              "         ...,\n",
              " \n",
              "         [[ 0.9078001 ],\n",
              "          [ 0.9078001 ],\n",
              "          [ 0.9078001 ],\n",
              "          ...,\n",
              "          [ 9.906861  ],\n",
              "          [ 9.867392  ],\n",
              "          [ 9.867392  ]],\n",
              " \n",
              "         [[ 0.9078001 ],\n",
              "          [ 0.9078001 ],\n",
              "          [ 0.9078001 ],\n",
              "          ...,\n",
              "          [ 9.946331  ],\n",
              "          [ 9.867392  ],\n",
              "          [ 9.867392  ]],\n",
              " \n",
              "         [[ 0.9078001 ],\n",
              "          [ 0.9078001 ],\n",
              "          [ 0.9078001 ],\n",
              "          ...,\n",
              "          [ 9.946331  ],\n",
              "          [ 9.867392  ],\n",
              "          [ 9.867392  ]]]], dtype=float32)>,\n",
              " <tf.Tensor: shape=(21,), dtype=int64, numpy=\n",
              " array([ 2,  9, 14, 39,  2, 12, 21,  5, 39,  1, 20, 39, 12, 39, 19,  9, 24,\n",
              "        39, 14, 15, 23])>)"
            ]
          },
          "metadata": {},
          "execution_count": 14
        }
      ]
    },
    {
      "cell_type": "code",
      "source": [
        "frames, alignments = load_data(tf.convert_to_tensor(test_path))\n",
        "\n"
      ],
      "metadata": {
        "id": "XqRjGGbf5cWE"
      },
      "execution_count": 15,
      "outputs": []
    },
    {
      "cell_type": "code",
      "source": [
        "plt.imshow(frames[45])"
      ],
      "metadata": {
        "colab": {
          "base_uri": "https://localhost:8080/",
          "height": 244
        },
        "id": "_wrOIC2v5hFt",
        "outputId": "0bc7a43f-eff2-48a3-9286-7aa9f29cbf05"
      },
      "execution_count": 16,
      "outputs": [
        {
          "output_type": "execute_result",
          "data": {
            "text/plain": [
              "<matplotlib.image.AxesImage at 0x790e7f265b70>"
            ]
          },
          "metadata": {},
          "execution_count": 16
        },
        {
          "output_type": "display_data",
          "data": {
            "text/plain": [
              "<Figure size 640x480 with 1 Axes>"
            ],
            "image/png": "[encoded data removed]"
          },
          "metadata": {}
        }
      ]
    },
    {
      "cell_type": "code",
      "source": [
        "tf.strings.reduce_join([bytes.decode(x) for x in num_to_char(alignments.numpy()).numpy()])\n",
        "\n"
      ],
      "metadata": {
        "colab": {
          "base_uri": "https://localhost:8080/"
        },
        "id": "AOmsGb8S5kXI",
        "outputId": "36330c18-5077-46e7-9d9e-12ed2af98d76"
      },
      "execution_count": 17,
      "outputs": [
        {
          "output_type": "execute_result",
          "data": {
            "text/plain": [
              "<tf.Tensor: shape=(), dtype=string, numpy=b'bin blue at l six now'>"
            ]
          },
          "metadata": {},
          "execution_count": 17
        }
      ]
    },
    {
      "cell_type": "code",
      "source": [
        "def mappable_function(path:str) ->List[str]:\n",
        "    result = tf.py_function(load_data, [path], (tf.float32, tf.int64))\n",
        "    return result"
      ],
      "metadata": {
        "id": "1iwuvKOD5orS"
      },
      "execution_count": 18,
      "outputs": []
    },
    {
      "cell_type": "code",
      "source": [
        "data = tf.data.Dataset.list_files('./data/s1/*.mpg')\n",
        "data = data.shuffle(500, reshuffle_each_iteration=False)\n",
        "data = data.map(mappable_function)\n",
        "data = data.padded_batch(2, padded_shapes=([75,None,None,None],[40]))\n",
        "data = data.prefetch(tf.data.AUTOTUNE)\n",
        "# Added for split\n",
        "train = data.take(450)\n",
        "test = data.skip(450)"
      ],
      "metadata": {
        "id": "Obp7fpHn5sJR"
      },
      "execution_count": 19,
      "outputs": []
    },
    {
      "cell_type": "code",
      "source": [
        "frames, alignments = data.as_numpy_iterator().next()"
      ],
      "metadata": {
        "id": "KRcTsK185wR4"
      },
      "execution_count": 20,
      "outputs": []
    },
    {
      "cell_type": "code",
      "source": [
        "sample = data.as_numpy_iterator()"
      ],
      "metadata": {
        "id": "3ZlsLMI_6YmQ"
      },
      "execution_count": 21,
      "outputs": []
    },
    {
      "cell_type": "code",
      "source": [
        "val = sample.next(); val[0]"
      ],
      "metadata": {
        "colab": {
          "base_uri": "https://localhost:8080/"
        },
        "id": "hRX181R76f08",
        "outputId": "7f6b326f-0d18-4d42-b40c-47d7fc589451"
      },
      "execution_count": 22,
      "outputs": [
        {
          "output_type": "execute_result",
          "data": {
            "text/plain": [
              "array([[[[[ 1.3478441 ],\n",
              "          [ 1.3842723 ],\n",
              "          [ 1.493557  ],\n",
              "          ...,\n",
              "          [ 0.4007104 ],\n",
              "          [ 0.3642822 ],\n",
              "          [ 0.3642822 ]],\n",
              "\n",
              "         [[ 1.3114159 ],\n",
              "          [ 1.4207006 ],\n",
              "          [ 1.4207006 ],\n",
              "          ...,\n",
              "          [ 0.4007104 ],\n",
              "          [ 0.3642822 ],\n",
              "          [ 0.3642822 ]],\n",
              "\n",
              "         [[ 1.493557  ],\n",
              "          [ 1.493557  ],\n",
              "          [ 1.5299852 ],\n",
              "          ...,\n",
              "          [ 0.4007104 ],\n",
              "          [ 0.3642822 ],\n",
              "          [ 0.3642822 ]],\n",
              "\n",
              "         ...,\n",
              "\n",
              "         [[ 1.0564183 ],\n",
              "          [ 1.0564183 ],\n",
              "          [ 1.0564183 ],\n",
              "          ...,\n",
              "          [ 0.03642822],\n",
              "          [ 0.03642822],\n",
              "          [ 9.289196  ]],\n",
              "\n",
              "         [[ 1.0564183 ],\n",
              "          [ 1.0564183 ],\n",
              "          [ 1.0564183 ],\n",
              "          ...,\n",
              "          [ 0.14571287],\n",
              "          [ 0.14571287],\n",
              "          [ 0.10928465]],\n",
              "\n",
              "         [[ 1.0564183 ],\n",
              "          [ 1.0564183 ],\n",
              "          [ 1.0564183 ],\n",
              "          ...,\n",
              "          [ 0.10928465],\n",
              "          [ 0.10928465],\n",
              "          [ 0.07285643]]],\n",
              "\n",
              "\n",
              "        [[[ 1.3478441 ],\n",
              "          [ 1.493557  ],\n",
              "          [ 1.493557  ],\n",
              "          ...,\n",
              "          [ 0.3642822 ],\n",
              "          [ 0.29142573],\n",
              "          [ 0.29142573]],\n",
              "\n",
              "         [[ 1.3842723 ],\n",
              "          [ 1.4207006 ],\n",
              "          [ 1.493557  ],\n",
              "          ...,\n",
              "          [ 0.3642822 ],\n",
              "          [ 0.29142573],\n",
              "          [ 0.29142573]],\n",
              "\n",
              "         [[ 1.4207006 ],\n",
              "          [ 1.4207006 ],\n",
              "          [ 1.493557  ],\n",
              "          ...,\n",
              "          [ 0.32785398],\n",
              "          [ 0.29142573],\n",
              "          [ 0.29142573]],\n",
              "\n",
              "         ...,\n",
              "\n",
              "         [[ 1.0928465 ],\n",
              "          [ 1.0928465 ],\n",
              "          [ 1.0928465 ],\n",
              "          ...,\n",
              "          [ 0.        ],\n",
              "          [ 0.        ],\n",
              "          [ 9.252768  ]],\n",
              "\n",
              "         [[ 1.0564183 ],\n",
              "          [ 1.0564183 ],\n",
              "          [ 1.0564183 ],\n",
              "          ...,\n",
              "          [ 0.03642822],\n",
              "          [ 0.07285643],\n",
              "          [ 0.07285643]],\n",
              "\n",
              "         [[ 1.0564183 ],\n",
              "          [ 1.0564183 ],\n",
              "          [ 1.0564183 ],\n",
              "          ...,\n",
              "          [ 0.03642822],\n",
              "          [ 0.10928465],\n",
              "          [ 0.10928465]]],\n",
              "\n",
              "\n",
              "        [[[ 1.4207006 ],\n",
              "          [ 1.493557  ],\n",
              "          [ 1.4571288 ],\n",
              "          ...,\n",
              "          [ 0.3642822 ],\n",
              "          [ 0.25499752],\n",
              "          [ 0.25499752]],\n",
              "\n",
              "         [[ 1.493557  ],\n",
              "          [ 1.3842723 ],\n",
              "          [ 1.3842723 ],\n",
              "          ...,\n",
              "          [ 0.3642822 ],\n",
              "          [ 0.25499752],\n",
              "          [ 0.25499752]],\n",
              "\n",
              "         [[ 1.4571288 ],\n",
              "          [ 1.4571288 ],\n",
              "          [ 1.493557  ],\n",
              "          ...,\n",
              "          [ 0.32785398],\n",
              "          [ 0.29142573],\n",
              "          [ 0.29142573]],\n",
              "\n",
              "         ...,\n",
              "\n",
              "         [[ 1.0928465 ],\n",
              "          [ 1.0928465 ],\n",
              "          [ 1.0928465 ],\n",
              "          ...,\n",
              "          [ 0.07285643],\n",
              "          [ 0.07285643],\n",
              "          [ 0.03642822]],\n",
              "\n",
              "         [[ 1.0564183 ],\n",
              "          [ 1.0564183 ],\n",
              "          [ 1.0564183 ],\n",
              "          ...,\n",
              "          [ 0.07285643],\n",
              "          [ 0.07285643],\n",
              "          [ 0.        ]],\n",
              "\n",
              "         [[ 1.0564183 ],\n",
              "          [ 1.0564183 ],\n",
              "          [ 1.0564183 ],\n",
              "          ...,\n",
              "          [ 0.10928465],\n",
              "          [ 0.07285643],\n",
              "          [ 0.        ]]],\n",
              "\n",
              "\n",
              "        ...,\n",
              "\n",
              "\n",
              "        [[[ 1.5299852 ],\n",
              "          [ 1.493557  ],\n",
              "          [ 1.3114159 ],\n",
              "          ...,\n",
              "          [ 0.29142573],\n",
              "          [ 0.21856931],\n",
              "          [ 0.21856931]],\n",
              "\n",
              "         [[ 1.6028416 ],\n",
              "          [ 1.5664134 ],\n",
              "          [ 1.3114159 ],\n",
              "          ...,\n",
              "          [ 0.29142573],\n",
              "          [ 0.21856931],\n",
              "          [ 0.21856931]],\n",
              "\n",
              "         [[ 1.4207006 ],\n",
              "          [ 1.4207006 ],\n",
              "          [ 1.3478441 ],\n",
              "          ...,\n",
              "          [ 0.4007104 ],\n",
              "          [ 0.3642822 ],\n",
              "          [ 0.3642822 ]],\n",
              "\n",
              "         ...,\n",
              "\n",
              "         [[ 1.0564183 ],\n",
              "          [ 1.0564183 ],\n",
              "          [ 1.0564183 ],\n",
              "          ...,\n",
              "          [ 0.10928465],\n",
              "          [ 0.10928465],\n",
              "          [ 0.10928465]],\n",
              "\n",
              "         [[ 1.0564183 ],\n",
              "          [ 1.0564183 ],\n",
              "          [ 1.0564183 ],\n",
              "          ...,\n",
              "          [ 0.1821411 ],\n",
              "          [ 0.14571287],\n",
              "          [ 0.10928465]],\n",
              "\n",
              "         [[ 1.0564183 ],\n",
              "          [ 1.0564183 ],\n",
              "          [ 1.0199901 ],\n",
              "          ...,\n",
              "          [ 0.07285643],\n",
              "          [ 0.10928465],\n",
              "          [ 0.10928465]]],\n",
              "\n",
              "\n",
              "        [[[ 1.493557  ],\n",
              "          [ 1.5664134 ],\n",
              "          [ 1.1657029 ],\n",
              "          ...,\n",
              "          [ 0.4007104 ],\n",
              "          [ 0.3642822 ],\n",
              "          [ 0.29142573]],\n",
              "\n",
              "         [[ 1.6028416 ],\n",
              "          [ 1.6028416 ],\n",
              "          [ 1.2749877 ],\n",
              "          ...,\n",
              "          [ 0.4007104 ],\n",
              "          [ 0.3642822 ],\n",
              "          [ 0.29142573]],\n",
              "\n",
              "         [[ 1.4207006 ],\n",
              "          [ 1.4207006 ],\n",
              "          [ 1.3114159 ],\n",
              "          ...,\n",
              "          [ 0.29142573],\n",
              "          [ 0.21856931],\n",
              "          [ 0.21856931]],\n",
              "\n",
              "         ...,\n",
              "\n",
              "         [[ 1.0564183 ],\n",
              "          [ 1.0564183 ],\n",
              "          [ 1.0564183 ],\n",
              "          ...,\n",
              "          [ 0.10928465],\n",
              "          [ 0.10928465],\n",
              "          [ 0.10928465]],\n",
              "\n",
              "         [[ 1.0564183 ],\n",
              "          [ 1.0564183 ],\n",
              "          [ 1.0564183 ],\n",
              "          ...,\n",
              "          [ 0.1821411 ],\n",
              "          [ 0.14571287],\n",
              "          [ 0.10928465]],\n",
              "\n",
              "         [[ 1.0564183 ],\n",
              "          [ 1.0564183 ],\n",
              "          [ 1.0199901 ],\n",
              "          ...,\n",
              "          [ 0.10928465],\n",
              "          [ 0.10928465],\n",
              "          [ 0.10928465]]],\n",
              "\n",
              "\n",
              "        [[[ 1.5299852 ],\n",
              "          [ 1.5664134 ],\n",
              "          [ 1.2021313 ],\n",
              "          ...,\n",
              "          [ 0.4007104 ],\n",
              "          [ 0.3642822 ],\n",
              "          [ 0.29142573]],\n",
              "\n",
              "         [[ 1.5664134 ],\n",
              "          [ 1.6028416 ],\n",
              "          [ 1.2749877 ],\n",
              "          ...,\n",
              "          [ 0.4007104 ],\n",
              "          [ 0.3642822 ],\n",
              "          [ 0.29142573]],\n",
              "\n",
              "         [[ 1.4207006 ],\n",
              "          [ 1.5664134 ],\n",
              "          [ 1.4207006 ],\n",
              "          ...,\n",
              "          [ 0.29142573],\n",
              "          [ 0.29142573],\n",
              "          [ 0.29142573]],\n",
              "\n",
              "         ...,\n",
              "\n",
              "         [[ 1.0928465 ],\n",
              "          [ 1.0928465 ],\n",
              "          [ 1.0928465 ],\n",
              "          ...,\n",
              "          [ 0.03642822],\n",
              "          [ 0.03642822],\n",
              "          [ 0.03642822]],\n",
              "\n",
              "         [[ 1.0928465 ],\n",
              "          [ 1.0928465 ],\n",
              "          [ 1.0928465 ],\n",
              "          ...,\n",
              "          [ 0.14571287],\n",
              "          [ 0.10928465],\n",
              "          [ 0.07285643]],\n",
              "\n",
              "         [[ 1.0928465 ],\n",
              "          [ 1.0928465 ],\n",
              "          [ 1.0564183 ],\n",
              "          ...,\n",
              "          [ 0.10928465],\n",
              "          [ 0.10928465],\n",
              "          [ 0.14571287]]]],\n",
              "\n",
              "\n",
              "\n",
              "       [[[[ 1.423011  ],\n",
              "          [ 1.3044268 ],\n",
              "          [ 1.0672582 ],\n",
              "          ...,\n",
              "          [ 0.23716849],\n",
              "          [ 0.19764042],\n",
              "          [ 0.19764042]],\n",
              "\n",
              "         [[ 1.4625391 ],\n",
              "          [ 1.2253705 ],\n",
              "          [ 0.9882021 ],\n",
              "          ...,\n",
              "          [ 0.23716849],\n",
              "          [ 0.19764042],\n",
              "          [ 0.19764042]],\n",
              "\n",
              "         [[ 1.5020671 ],\n",
              "          [ 1.5020671 ],\n",
              "          [ 1.423011  ],\n",
              "          ...,\n",
              "          [ 0.2766966 ],\n",
              "          [ 0.23716849],\n",
              "          [ 0.23716849]],\n",
              "\n",
              "         ...,\n",
              "\n",
              "         [[ 1.0672582 ],\n",
              "          [ 1.0672582 ],\n",
              "          [ 1.0672582 ],\n",
              "          ...,\n",
              "          [ 0.        ],\n",
              "          [10.079661  ],\n",
              "          [10.079661  ]],\n",
              "\n",
              "         [[ 1.0277301 ],\n",
              "          [ 1.0277301 ],\n",
              "          [ 1.0277301 ],\n",
              "          ...,\n",
              "          [10.079661  ],\n",
              "          [10.079661  ],\n",
              "          [10.079661  ]],\n",
              "\n",
              "         [[ 1.0277301 ],\n",
              "          [ 1.0277301 ],\n",
              "          [ 1.0277301 ],\n",
              "          ...,\n",
              "          [10.040133  ],\n",
              "          [10.040133  ],\n",
              "          [10.040133  ]]],\n",
              "\n",
              "\n",
              "        [[[ 1.4625391 ],\n",
              "          [ 1.423011  ],\n",
              "          [ 1.2648987 ],\n",
              "          ...,\n",
              "          [ 0.23716849],\n",
              "          [ 0.19764042],\n",
              "          [ 0.19764042]],\n",
              "\n",
              "         [[ 1.5020671 ],\n",
              "          [ 1.3044268 ],\n",
              "          [ 1.0672582 ],\n",
              "          ...,\n",
              "          [ 0.23716849],\n",
              "          [ 0.19764042],\n",
              "          [ 0.19764042]],\n",
              "\n",
              "         [[ 1.5415952 ],\n",
              "          [ 1.5415952 ],\n",
              "          [ 1.423011  ],\n",
              "          ...,\n",
              "          [ 0.23716849],\n",
              "          [ 0.15811233],\n",
              "          [ 0.15811233]],\n",
              "\n",
              "         ...,\n",
              "\n",
              "         [[ 1.0277301 ],\n",
              "          [ 1.0277301 ],\n",
              "          [ 1.0277301 ],\n",
              "          ...,\n",
              "          [ 0.        ],\n",
              "          [10.079661  ],\n",
              "          [10.079661  ]],\n",
              "\n",
              "         [[ 1.0277301 ],\n",
              "          [ 1.0277301 ],\n",
              "          [ 1.0277301 ],\n",
              "          ...,\n",
              "          [10.079661  ],\n",
              "          [10.040133  ],\n",
              "          [10.040133  ]],\n",
              "\n",
              "         [[ 1.0277301 ],\n",
              "          [ 1.0277301 ],\n",
              "          [ 1.0277301 ],\n",
              "          ...,\n",
              "          [10.079661  ],\n",
              "          [10.040133  ],\n",
              "          [10.040133  ]]],\n",
              "\n",
              "\n",
              "        [[[ 1.4625391 ],\n",
              "          [ 1.4625391 ],\n",
              "          [ 1.2648987 ],\n",
              "          ...,\n",
              "          [ 0.23716849],\n",
              "          [ 0.23716849],\n",
              "          [ 0.23716849]],\n",
              "\n",
              "         [[ 1.5020671 ],\n",
              "          [ 1.2648987 ],\n",
              "          [ 1.1463144 ],\n",
              "          ...,\n",
              "          [ 0.19764042],\n",
              "          [ 0.23716849],\n",
              "          [ 0.23716849]],\n",
              "\n",
              "         [[ 1.5811234 ],\n",
              "          [ 1.5811234 ],\n",
              "          [ 1.423011  ],\n",
              "          ...,\n",
              "          [ 0.31622466],\n",
              "          [ 0.2766966 ],\n",
              "          [ 0.2766966 ]],\n",
              "\n",
              "         ...,\n",
              "\n",
              "         [[ 0.9882021 ],\n",
              "          [ 0.9882021 ],\n",
              "          [ 0.9882021 ],\n",
              "          ...,\n",
              "          [ 0.        ],\n",
              "          [ 0.        ],\n",
              "          [10.079661  ]],\n",
              "\n",
              "         [[ 0.9882021 ],\n",
              "          [ 0.9882021 ],\n",
              "          [ 0.9882021 ],\n",
              "          ...,\n",
              "          [ 0.        ],\n",
              "          [10.079661  ],\n",
              "          [10.079661  ]],\n",
              "\n",
              "         [[ 0.9882021 ],\n",
              "          [ 0.9882021 ],\n",
              "          [ 0.9882021 ],\n",
              "          ...,\n",
              "          [ 0.        ],\n",
              "          [10.079661  ],\n",
              "          [10.079661  ]]],\n",
              "\n",
              "\n",
              "        ...,\n",
              "\n",
              "\n",
              "        [[[ 1.3834829 ],\n",
              "          [ 1.4625391 ],\n",
              "          [ 0.94867396],\n",
              "          ...,\n",
              "          [ 0.23716849],\n",
              "          [ 0.23716849],\n",
              "          [ 0.15811233]],\n",
              "\n",
              "         [[ 1.3834829 ],\n",
              "          [ 1.3834829 ],\n",
              "          [ 0.9882021 ],\n",
              "          ...,\n",
              "          [ 0.23716849],\n",
              "          [ 0.23716849],\n",
              "          [ 0.15811233]],\n",
              "\n",
              "         [[ 1.423011  ],\n",
              "          [ 1.423011  ],\n",
              "          [ 1.3044268 ],\n",
              "          ...,\n",
              "          [ 0.23716849],\n",
              "          [ 0.23716849],\n",
              "          [ 0.23716849]],\n",
              "\n",
              "         ...,\n",
              "\n",
              "         [[ 0.9882021 ],\n",
              "          [ 0.9882021 ],\n",
              "          [ 0.9882021 ],\n",
              "          ...,\n",
              "          [10.000605  ],\n",
              "          [10.000605  ],\n",
              "          [10.000605  ]],\n",
              "\n",
              "         [[ 0.9882021 ],\n",
              "          [ 0.9882021 ],\n",
              "          [ 0.9882021 ],\n",
              "          ...,\n",
              "          [10.000605  ],\n",
              "          [10.000605  ],\n",
              "          [10.000605  ]],\n",
              "\n",
              "         [[ 0.9882021 ],\n",
              "          [ 0.9882021 ],\n",
              "          [ 0.9882021 ],\n",
              "          ...,\n",
              "          [10.000605  ],\n",
              "          [10.000605  ],\n",
              "          [10.000605  ]]],\n",
              "\n",
              "\n",
              "        [[[ 1.5020671 ],\n",
              "          [ 1.4625391 ],\n",
              "          [ 1.0277301 ],\n",
              "          ...,\n",
              "          [ 0.23716849],\n",
              "          [ 0.23716849],\n",
              "          [ 0.15811233]],\n",
              "\n",
              "         [[ 1.4625391 ],\n",
              "          [ 1.2648987 ],\n",
              "          [ 0.9091459 ],\n",
              "          ...,\n",
              "          [ 0.23716849],\n",
              "          [ 0.23716849],\n",
              "          [ 0.15811233]],\n",
              "\n",
              "         [[ 1.4625391 ],\n",
              "          [ 1.4625391 ],\n",
              "          [ 1.3439548 ],\n",
              "          ...,\n",
              "          [ 0.23716849],\n",
              "          [ 0.23716849],\n",
              "          [ 0.23716849]],\n",
              "\n",
              "         ...,\n",
              "\n",
              "         [[ 0.9882021 ],\n",
              "          [ 0.9882021 ],\n",
              "          [ 0.9882021 ],\n",
              "          ...,\n",
              "          [10.079661  ],\n",
              "          [10.040133  ],\n",
              "          [10.040133  ]],\n",
              "\n",
              "         [[ 0.9882021 ],\n",
              "          [ 0.9882021 ],\n",
              "          [ 0.9882021 ],\n",
              "          ...,\n",
              "          [10.040133  ],\n",
              "          [10.040133  ],\n",
              "          [10.040133  ]],\n",
              "\n",
              "         [[ 0.9882021 ],\n",
              "          [ 0.9882021 ],\n",
              "          [ 0.9882021 ],\n",
              "          ...,\n",
              "          [10.000605  ],\n",
              "          [10.000605  ],\n",
              "          [10.000605  ]]],\n",
              "\n",
              "\n",
              "        [[[ 1.423011  ],\n",
              "          [ 1.3439548 ],\n",
              "          [ 1.0277301 ],\n",
              "          ...,\n",
              "          [ 0.23716849],\n",
              "          [ 0.23716849],\n",
              "          [ 0.15811233]],\n",
              "\n",
              "         [[ 1.3439548 ],\n",
              "          [ 1.2253705 ],\n",
              "          [ 0.9091459 ],\n",
              "          ...,\n",
              "          [ 0.23716849],\n",
              "          [ 0.23716849],\n",
              "          [ 0.15811233]],\n",
              "\n",
              "         [[ 1.423011  ],\n",
              "          [ 1.423011  ],\n",
              "          [ 1.3044268 ],\n",
              "          ...,\n",
              "          [ 0.23716849],\n",
              "          [ 0.23716849],\n",
              "          [ 0.23716849]],\n",
              "\n",
              "         ...,\n",
              "\n",
              "         [[ 0.9882021 ],\n",
              "          [ 0.9882021 ],\n",
              "          [ 0.9882021 ],\n",
              "          ...,\n",
              "          [ 0.        ],\n",
              "          [10.079661  ],\n",
              "          [10.040133  ]],\n",
              "\n",
              "         [[ 0.9882021 ],\n",
              "          [ 0.9882021 ],\n",
              "          [ 0.9882021 ],\n",
              "          ...,\n",
              "          [ 0.        ],\n",
              "          [10.040133  ],\n",
              "          [10.040133  ]],\n",
              "\n",
              "         [[ 0.9882021 ],\n",
              "          [ 0.9882021 ],\n",
              "          [ 0.9882021 ],\n",
              "          ...,\n",
              "          [10.079661  ],\n",
              "          [10.040133  ],\n",
              "          [10.040133  ]]]]], dtype=float32)"
            ]
          },
          "metadata": {},
          "execution_count": 22
        }
      ]
    },
    {
      "cell_type": "code",
      "source": [
        "!pip install imageio\n",
        "!pip install Pillow"
      ],
      "metadata": {
        "colab": {
          "base_uri": "https://localhost:8080/"
        },
        "id": "wUP6nrRgkWum",
        "outputId": "591c1de8-2f83-4d6d-c5ec-26c00c555648"
      },
      "execution_count": 24,
      "outputs": [
        {
          "output_type": "stream",
          "name": "stdout",
          "text": [
            "Requirement already satisfied: imageio in /usr/local/lib/python3.10/dist-packages (2.31.6)\n",
            "Requirement already satisfied: numpy in /usr/local/lib/python3.10/dist-packages (from imageio) (1.23.5)\n",
            "Requirement already satisfied: pillow<10.1.0,>=8.3.2 in /usr/local/lib/python3.10/dist-packages (from imageio) (9.4.0)\n",
            "Requirement already satisfied: Pillow in /usr/local/lib/python3.10/dist-packages (9.4.0)\n"
          ]
        }
      ]
    },
    {
      "cell_type": "code",
      "source": [
        "import imageio\n",
        "from PIL import Image"
      ],
      "metadata": {
        "id": "SEAMqD4KkaNi"
      },
      "execution_count": 25,
      "outputs": []
    },
    {
      "cell_type": "code",
      "source": [
        "print(type(val[0][0]))"
      ],
      "metadata": {
        "colab": {
          "base_uri": "https://localhost:8080/"
        },
        "id": "RXWX_WDskfTn",
        "outputId": "c01a5149-293c-438d-c56c-51f8bd97ccce"
      },
      "execution_count": 26,
      "outputs": [
        {
          "output_type": "stream",
          "name": "stdout",
          "text": [
            "<class 'numpy.ndarray'>\n"
          ]
        }
      ]
    },
    {
      "cell_type": "code",
      "source": [
        "data_type = type(val[0][0])\n",
        "print(f\"Data type of val[0][0]: {data_type}\")"
      ],
      "metadata": {
        "colab": {
          "base_uri": "https://localhost:8080/"
        },
        "id": "nrEONkzIk0NN",
        "outputId": "c94de5d6-b225-4121-e6d1-fa9aa78318f9"
      },
      "execution_count": 28,
      "outputs": [
        {
          "output_type": "stream",
          "name": "stdout",
          "text": [
            "Data type of val[0][0]: <class 'numpy.ndarray'>\n"
          ]
        }
      ]
    },
    {
      "cell_type": "code",
      "source": [
        "from PIL import Image\n",
        "\n",
        "supported_types = Image._fromarray_typemap.keys()\n",
        "if data_type not in supported_types:\n",
        "    print(f\"Error: Data type {data_type} is not supported by PIL.\")"
      ],
      "metadata": {
        "colab": {
          "base_uri": "https://localhost:8080/"
        },
        "id": "cc-caZKVlEmY",
        "outputId": "878027b7-2c59-4b56-c6e4-7cbe5f40aa48"
      },
      "execution_count": 30,
      "outputs": [
        {
          "output_type": "stream",
          "name": "stdout",
          "text": [
            "Error: Data type <class 'numpy.ndarray'> is not supported by PIL.\n"
          ]
        }
      ]
    },
    {
      "cell_type": "code",
      "source": [
        "val[0][0] = val[0][0].astype(np.uint8)"
      ],
      "metadata": {
        "colab": {
          "base_uri": "https://localhost:8080/",
          "height": 175
        },
        "id": "4ok6qj0Yl51v",
        "outputId": "810c1827-6df7-4edc-d45e-a1701623a87f"
      },
      "execution_count": 35,
      "outputs": [
        {
          "output_type": "error",
          "ename": "ValueError",
          "evalue": "assignment destination is read-only",
          "traceback": [
            "\u001b[0;31m---------------------------------------------------------------------------\u001b[0m",
            "\u001b[0;31mValueError\u001b[0m                                Traceback (most recent call last)",
            "\u001b[0;32m<ipython-input-35-f3701ef6018f>\u001b[0m in \u001b[0;36m<cell line: 1>\u001b[0;34m()\u001b[0m\n\u001b[0;32m----> 1\u001b[0;31m \u001b[0mval\u001b[0m\u001b[0;34m[\u001b[0m\u001b[0;36m0\u001b[0m\u001b[0;34m]\u001b[0m\u001b[0;34m[\u001b[0m\u001b[0;36m0\u001b[0m\u001b[0;34m]\u001b[0m \u001b[0;34m=\u001b[0m \u001b[0mval\u001b[0m\u001b[0;34m[\u001b[0m\u001b[0;36m0\u001b[0m\u001b[0;34m]\u001b[0m\u001b[0;34m[\u001b[0m\u001b[0;36m0\u001b[0m\u001b[0;34m]\u001b[0m\u001b[0;34m.\u001b[0m\u001b[0mastype\u001b[0m\u001b[0;34m(\u001b[0m\u001b[0mnp\u001b[0m\u001b[0;34m.\u001b[0m\u001b[0muint8\u001b[0m\u001b[0;34m)\u001b[0m\u001b[0;34m\u001b[0m\u001b[0;34m\u001b[0m\u001b[0m\n\u001b[0m",
            "\u001b[0;31mValueError\u001b[0m: assignment destination is read-only"
          ]
        }
      ]
    },
    {
      "cell_type": "code",
      "source": [
        "if data_type not in supported_types:\n",
        "    # Convert the data to a supported type (e.g., uint8)\n",
        "    val[0][0] = val[0][0].astype(np.uint8)"
      ],
      "metadata": {
        "colab": {
          "base_uri": "https://localhost:8080/",
          "height": 210
        },
        "id": "5uLYbtIElIkP",
        "outputId": "91ae7a1c-7871-4f26-dcdb-cc97cc31dd00"
      },
      "execution_count": 31,
      "outputs": [
        {
          "output_type": "error",
          "ename": "ValueError",
          "evalue": "assignment destination is read-only",
          "traceback": [
            "\u001b[0;31m---------------------------------------------------------------------------\u001b[0m",
            "\u001b[0;31mValueError\u001b[0m                                Traceback (most recent call last)",
            "\u001b[0;32m<ipython-input-31-89b10ba7b10f>\u001b[0m in \u001b[0;36m<cell line: 1>\u001b[0;34m()\u001b[0m\n\u001b[1;32m      1\u001b[0m \u001b[0;32mif\u001b[0m \u001b[0mdata_type\u001b[0m \u001b[0;32mnot\u001b[0m \u001b[0;32min\u001b[0m \u001b[0msupported_types\u001b[0m\u001b[0;34m:\u001b[0m\u001b[0;34m\u001b[0m\u001b[0;34m\u001b[0m\u001b[0m\n\u001b[1;32m      2\u001b[0m     \u001b[0;31m# Convert the data to a supported type (e.g., uint8)\u001b[0m\u001b[0;34m\u001b[0m\u001b[0;34m\u001b[0m\u001b[0m\n\u001b[0;32m----> 3\u001b[0;31m     \u001b[0mval\u001b[0m\u001b[0;34m[\u001b[0m\u001b[0;36m0\u001b[0m\u001b[0;34m]\u001b[0m\u001b[0;34m[\u001b[0m\u001b[0;36m0\u001b[0m\u001b[0;34m]\u001b[0m \u001b[0;34m=\u001b[0m \u001b[0mval\u001b[0m\u001b[0;34m[\u001b[0m\u001b[0;36m0\u001b[0m\u001b[0;34m]\u001b[0m\u001b[0;34m[\u001b[0m\u001b[0;36m0\u001b[0m\u001b[0;34m]\u001b[0m\u001b[0;34m.\u001b[0m\u001b[0mastype\u001b[0m\u001b[0;34m(\u001b[0m\u001b[0mnp\u001b[0m\u001b[0;34m.\u001b[0m\u001b[0muint8\u001b[0m\u001b[0;34m)\u001b[0m\u001b[0;34m\u001b[0m\u001b[0;34m\u001b[0m\u001b[0m\n\u001b[0m",
            "\u001b[0;31mValueError\u001b[0m: assignment destination is read-only"
          ]
        }
      ]
    },
    {
      "cell_type": "code",
      "source": [
        "imageio.mimsave('./animation.gif', val[0][0], fps=10)"
      ],
      "metadata": {
        "colab": {
          "base_uri": "https://localhost:8080/",
          "height": 442
        },
        "id": "YFM3jjzp6jM_",
        "outputId": "ff076b53-f907-4728-bc63-712f978c8dba"
      },
      "execution_count": 23,
      "outputs": [
        {
          "output_type": "error",
          "ename": "TypeError",
          "evalue": "Cannot handle this data type: (1, 1, 1), <f4",
          "traceback": [
            "\u001b[0;31m---------------------------------------------------------------------------\u001b[0m",
            "\u001b[0;31mKeyError\u001b[0m                                  Traceback (most recent call last)",
            "\u001b[0;32m/usr/local/lib/python3.10/dist-packages/PIL/Image.py\u001b[0m in \u001b[0;36mfromarray\u001b[0;34m(obj, mode)\u001b[0m\n\u001b[1;32m   3079\u001b[0m         \u001b[0;32mtry\u001b[0m\u001b[0;34m:\u001b[0m\u001b[0;34m\u001b[0m\u001b[0;34m\u001b[0m\u001b[0m\n\u001b[0;32m-> 3080\u001b[0;31m             \u001b[0mmode\u001b[0m\u001b[0;34m,\u001b[0m \u001b[0mrawmode\u001b[0m \u001b[0;34m=\u001b[0m \u001b[0m_fromarray_typemap\u001b[0m\u001b[0;34m[\u001b[0m\u001b[0mtypekey\u001b[0m\u001b[0;34m]\u001b[0m\u001b[0;34m\u001b[0m\u001b[0;34m\u001b[0m\u001b[0m\n\u001b[0m\u001b[1;32m   3081\u001b[0m         \u001b[0;32mexcept\u001b[0m \u001b[0mKeyError\u001b[0m \u001b[0;32mas\u001b[0m \u001b[0me\u001b[0m\u001b[0;34m:\u001b[0m\u001b[0;34m\u001b[0m\u001b[0;34m\u001b[0m\u001b[0m\n",
            "\u001b[0;31mKeyError\u001b[0m: ((1, 1, 1), '<f4')",
            "\nThe above exception was the direct cause of the following exception:\n",
            "\u001b[0;31mTypeError\u001b[0m                                 Traceback (most recent call last)",
            "\u001b[0;32m<ipython-input-23-a4f7149ec5da>\u001b[0m in \u001b[0;36m<cell line: 1>\u001b[0;34m()\u001b[0m\n\u001b[0;32m----> 1\u001b[0;31m \u001b[0mimageio\u001b[0m\u001b[0;34m.\u001b[0m\u001b[0mmimsave\u001b[0m\u001b[0;34m(\u001b[0m\u001b[0;34m'./animation.gif'\u001b[0m\u001b[0;34m,\u001b[0m \u001b[0mval\u001b[0m\u001b[0;34m[\u001b[0m\u001b[0;36m0\u001b[0m\u001b[0;34m]\u001b[0m\u001b[0;34m[\u001b[0m\u001b[0;36m0\u001b[0m\u001b[0;34m]\u001b[0m\u001b[0;34m,\u001b[0m \u001b[0mfps\u001b[0m\u001b[0;34m=\u001b[0m\u001b[0;36m10\u001b[0m\u001b[0;34m)\u001b[0m\u001b[0;34m\u001b[0m\u001b[0;34m\u001b[0m\u001b[0m\n\u001b[0m",
            "\u001b[0;32m/usr/local/lib/python3.10/dist-packages/imageio/v2.py\u001b[0m in \u001b[0;36mmimwrite\u001b[0;34m(uri, ims, format, **kwargs)\u001b[0m\n\u001b[1;32m    493\u001b[0m     \u001b[0mimopen_args\u001b[0m\u001b[0;34m[\u001b[0m\u001b[0;34m\"legacy_mode\"\u001b[0m\u001b[0;34m]\u001b[0m \u001b[0;34m=\u001b[0m \u001b[0;32mTrue\u001b[0m\u001b[0;34m\u001b[0m\u001b[0;34m\u001b[0m\u001b[0m\n\u001b[1;32m    494\u001b[0m     \u001b[0;32mwith\u001b[0m \u001b[0mimopen\u001b[0m\u001b[0;34m(\u001b[0m\u001b[0muri\u001b[0m\u001b[0;34m,\u001b[0m \u001b[0;34m\"wI\"\u001b[0m\u001b[0;34m,\u001b[0m \u001b[0;34m**\u001b[0m\u001b[0mimopen_args\u001b[0m\u001b[0;34m)\u001b[0m \u001b[0;32mas\u001b[0m \u001b[0mfile\u001b[0m\u001b[0;34m:\u001b[0m\u001b[0;34m\u001b[0m\u001b[0;34m\u001b[0m\u001b[0m\n\u001b[0;32m--> 495\u001b[0;31m         \u001b[0;32mreturn\u001b[0m \u001b[0mfile\u001b[0m\u001b[0;34m.\u001b[0m\u001b[0mwrite\u001b[0m\u001b[0;34m(\u001b[0m\u001b[0mims\u001b[0m\u001b[0;34m,\u001b[0m \u001b[0mis_batch\u001b[0m\u001b[0;34m=\u001b[0m\u001b[0;32mTrue\u001b[0m\u001b[0;34m,\u001b[0m \u001b[0;34m**\u001b[0m\u001b[0mkwargs\u001b[0m\u001b[0;34m)\u001b[0m\u001b[0;34m\u001b[0m\u001b[0;34m\u001b[0m\u001b[0m\n\u001b[0m\u001b[1;32m    496\u001b[0m \u001b[0;34m\u001b[0m\u001b[0m\n\u001b[1;32m    497\u001b[0m \u001b[0;34m\u001b[0m\u001b[0m\n",
            "\u001b[0;32m/usr/local/lib/python3.10/dist-packages/imageio/plugins/pillow.py\u001b[0m in \u001b[0;36mwrite\u001b[0;34m(self, ndimage, mode, format, is_batch, **kwargs)\u001b[0m\n\u001b[1;32m    423\u001b[0m \u001b[0;34m\u001b[0m\u001b[0m\n\u001b[1;32m    424\u001b[0m         \u001b[0;32mfor\u001b[0m \u001b[0mframe\u001b[0m \u001b[0;32min\u001b[0m \u001b[0mndimage\u001b[0m\u001b[0;34m:\u001b[0m\u001b[0;34m\u001b[0m\u001b[0;34m\u001b[0m\u001b[0m\n\u001b[0;32m--> 425\u001b[0;31m             \u001b[0mpil_frame\u001b[0m \u001b[0;34m=\u001b[0m \u001b[0mImage\u001b[0m\u001b[0;34m.\u001b[0m\u001b[0mfromarray\u001b[0m\u001b[0;34m(\u001b[0m\u001b[0mframe\u001b[0m\u001b[0;34m,\u001b[0m \u001b[0mmode\u001b[0m\u001b[0;34m=\u001b[0m\u001b[0mmode\u001b[0m\u001b[0;34m)\u001b[0m\u001b[0;34m\u001b[0m\u001b[0;34m\u001b[0m\u001b[0m\n\u001b[0m\u001b[1;32m    426\u001b[0m             \u001b[0;32mif\u001b[0m \u001b[0;34m\"bits\"\u001b[0m \u001b[0;32min\u001b[0m \u001b[0mkwargs\u001b[0m\u001b[0;34m:\u001b[0m\u001b[0;34m\u001b[0m\u001b[0;34m\u001b[0m\u001b[0m\n\u001b[1;32m    427\u001b[0m                 \u001b[0mpil_frame\u001b[0m \u001b[0;34m=\u001b[0m \u001b[0mpil_frame\u001b[0m\u001b[0;34m.\u001b[0m\u001b[0mquantize\u001b[0m\u001b[0;34m(\u001b[0m\u001b[0mcolors\u001b[0m\u001b[0;34m=\u001b[0m\u001b[0;36m2\u001b[0m \u001b[0;34m**\u001b[0m \u001b[0mkwargs\u001b[0m\u001b[0;34m[\u001b[0m\u001b[0;34m\"bits\"\u001b[0m\u001b[0;34m]\u001b[0m\u001b[0;34m)\u001b[0m\u001b[0;34m\u001b[0m\u001b[0;34m\u001b[0m\u001b[0m\n",
            "\u001b[0;32m/usr/local/lib/python3.10/dist-packages/PIL/Image.py\u001b[0m in \u001b[0;36mfromarray\u001b[0;34m(obj, mode)\u001b[0m\n\u001b[1;32m   3081\u001b[0m         \u001b[0;32mexcept\u001b[0m \u001b[0mKeyError\u001b[0m \u001b[0;32mas\u001b[0m \u001b[0me\u001b[0m\u001b[0;34m:\u001b[0m\u001b[0;34m\u001b[0m\u001b[0;34m\u001b[0m\u001b[0m\n\u001b[1;32m   3082\u001b[0m             \u001b[0mmsg\u001b[0m \u001b[0;34m=\u001b[0m \u001b[0;34m\"Cannot handle this data type: %s, %s\"\u001b[0m \u001b[0;34m%\u001b[0m \u001b[0mtypekey\u001b[0m\u001b[0;34m\u001b[0m\u001b[0;34m\u001b[0m\u001b[0m\n\u001b[0;32m-> 3083\u001b[0;31m             \u001b[0;32mraise\u001b[0m \u001b[0mTypeError\u001b[0m\u001b[0;34m(\u001b[0m\u001b[0mmsg\u001b[0m\u001b[0;34m)\u001b[0m \u001b[0;32mfrom\u001b[0m \u001b[0me\u001b[0m\u001b[0;34m\u001b[0m\u001b[0;34m\u001b[0m\u001b[0m\n\u001b[0m\u001b[1;32m   3084\u001b[0m     \u001b[0;32melse\u001b[0m\u001b[0;34m:\u001b[0m\u001b[0;34m\u001b[0m\u001b[0;34m\u001b[0m\u001b[0m\n\u001b[1;32m   3085\u001b[0m         \u001b[0mrawmode\u001b[0m \u001b[0;34m=\u001b[0m \u001b[0mmode\u001b[0m\u001b[0;34m\u001b[0m\u001b[0;34m\u001b[0m\u001b[0m\n",
            "\u001b[0;31mTypeError\u001b[0m: Cannot handle this data type: (1, 1, 1), <f4"
          ]
        }
      ]
    },
    {
      "cell_type": "code",
      "source": [
        "tf.strings.reduce_join([num_to_char(word) for word in val[1][0]])"
      ],
      "metadata": {
        "colab": {
          "base_uri": "https://localhost:8080/"
        },
        "id": "Fu64T3vN6qAn",
        "outputId": "17ad434b-d54d-47ef-b571-cb5df345eb88"
      },
      "execution_count": 37,
      "outputs": [
        {
          "output_type": "execute_result",
          "data": {
            "text/plain": [
              "<tf.Tensor: shape=(), dtype=string, numpy=b'bin green with o five again'>"
            ]
          },
          "metadata": {},
          "execution_count": 37
        }
      ]
    },
    {
      "cell_type": "code",
      "source": [
        "data.as_numpy_iterator().next()[0][0].shape"
      ],
      "metadata": {
        "colab": {
          "base_uri": "https://localhost:8080/"
        },
        "id": "NEXVIpne6tWl",
        "outputId": "b64a5cd6-cc96-448f-8e84-7d36eab1e9bd"
      },
      "execution_count": 38,
      "outputs": [
        {
          "output_type": "execute_result",
          "data": {
            "text/plain": [
              "(75, 46, 140, 1)"
            ]
          },
          "metadata": {},
          "execution_count": 38
        }
      ]
    },
    {
      "cell_type": "code",
      "source": [
        "from tensorflow.keras.models import Sequential\n",
        "from tensorflow.keras import layers\n",
        "from tensorflow.keras.layers import Conv3D, Activation, MaxPool3D, TimeDistributed, Flatten, Bidirectional, LSTM, Dropout, Dense\n",
        "model = Sequential()\n",
        "model.add(tf.keras.layers.Conv3D(128, 3, input_shape=(75,46,140,1), padding='same'))\n",
        "model.add(layers.Activation('relu'))\n",
        "model.add(layers.MaxPool3D((1,2,2)))\n",
        "\n",
        "model.add(layers.Conv3D(256, 3, padding='same'))\n",
        "model.add(layers.Activation('relu'))\n",
        "model.add(layers.MaxPool3D((1,2,2)))\n",
        "\n",
        "model.add(layers.Conv3D(75, 3, padding='same'))\n",
        "model.add(layers.Activation('relu'))\n",
        "model.add(layers.MaxPool3D((1,2,2)))\n",
        "\n",
        "model.add(layers.TimeDistributed(Flatten()))\n",
        "\n",
        "model.add(layers.Bidirectional(LSTM(128, kernel_initializer='Orthogonal', return_sequences=True)))\n",
        "model.add(layers.Dropout(.5))\n",
        "\n",
        "model.add(layers.Bidirectional(LSTM(128, kernel_initializer='Orthogonal', return_sequences=True)))\n",
        "model.add(layers.Dropout(.5))\n",
        "\n",
        "model.add(layers.Dense(char_to_num.vocabulary_size()+1, kernel_initializer='he_normal', activation='softmax'))"
      ],
      "metadata": {
        "id": "-ZbLKvyq6wVY"
      },
      "execution_count": 39,
      "outputs": []
    },
    {
      "cell_type": "code",
      "source": [
        "yhat = model.predict(val[0])"
      ],
      "metadata": {
        "colab": {
          "base_uri": "https://localhost:8080/"
        },
        "id": "aP7M19yC60Wu",
        "outputId": "27a0b0a5-4205-496a-ea02-f82e29fa8dee"
      },
      "execution_count": 40,
      "outputs": [
        {
          "output_type": "stream",
          "name": "stdout",
          "text": [
            "1/1 [==============================] - 5s 5s/step\n"
          ]
        }
      ]
    },
    {
      "cell_type": "code",
      "source": [
        "tf.strings.reduce_join([num_to_char(tf.argmax(x)) for x in yhat[0]])"
      ],
      "metadata": {
        "colab": {
          "base_uri": "https://localhost:8080/"
        },
        "id": "9QeWXQlt6347",
        "outputId": "a2def14b-3fd5-4409-c03d-8627726c406d"
      },
      "execution_count": 41,
      "outputs": [
        {
          "output_type": "execute_result",
          "data": {
            "text/plain": [
              "<tf.Tensor: shape=(), dtype=string, numpy=b'ccccccccccccccccccccccccccccccccccccccccccccccccccccccccccccccccccccccccccc'>"
            ]
          },
          "metadata": {},
          "execution_count": 41
        }
      ]
    },
    {
      "cell_type": "code",
      "source": [
        "def scheduler(epoch, lr):\n",
        "    if epoch < 30:\n",
        "        return lr\n",
        "    else:\n",
        "        return lr * tf.math.exp(-0.1)"
      ],
      "metadata": {
        "id": "nM8iSL5A69N8"
      },
      "execution_count": 42,
      "outputs": []
    },
    {
      "cell_type": "code",
      "source": [
        "def CTCLoss(y_true, y_pred):\n",
        "    batch_len = tf.cast(tf.shape(y_true)[0], dtype=\"int64\")\n",
        "    input_length = tf.cast(tf.shape(y_pred)[1], dtype=\"int64\")\n",
        "    label_length = tf.cast(tf.shape(y_true)[1], dtype=\"int64\")\n",
        "\n",
        "    input_length = input_length * tf.ones(shape=(batch_len, 1), dtype=\"int64\")\n",
        "    label_length = label_length * tf.ones(shape=(batch_len, 1), dtype=\"int64\")\n",
        "\n",
        "    loss = tf.keras.backend.ctc_batch_cost(y_true, y_pred, input_length, label_length)\n",
        "    return loss"
      ],
      "metadata": {
        "id": "pT4-rBND7N_L"
      },
      "execution_count": 43,
      "outputs": []
    },
    {
      "cell_type": "code",
      "source": [
        "class ProduceExample(tf.keras.callbacks.Callback):\n",
        "    def __init__(self, dataset) -> None:\n",
        "        self.dataset = dataset.as_numpy_iterator()\n",
        "\n",
        "    def on_epoch_end(self, epoch, logs=None) -> None:\n",
        "        data = self.dataset.next()\n",
        "        yhat = self.model.predict(data[0])\n",
        "        decoded = tf.keras.backend.ctc_decode(yhat, [75,75], greedy=False)[0][0].numpy()\n",
        "        for x in range(len(yhat)):\n",
        "            print('Original:', tf.strings.reduce_join(num_to_char(data[1][x])).numpy().decode('utf-8'))\n",
        "            print('Prediction:', tf.strings.reduce_join(num_to_char(decoded[x])).numpy().decode('utf-8'))\n",
        "            print('~'*100)"
      ],
      "metadata": {
        "id": "DJCoie9f7RXH"
      },
      "execution_count": 44,
      "outputs": []
    },
    {
      "cell_type": "code",
      "source": [
        "from tensorflow.keras.optimizers import Adam\n",
        "from tensorflow.keras.backend import ctc_batch_cost\n",
        "model.compile(optimizer=Adam(learning_rate=0.0001), loss=CTCLoss)"
      ],
      "metadata": {
        "id": "FeUnjMkv7VTt"
      },
      "execution_count": 45,
      "outputs": []
    },
    {
      "cell_type": "code",
      "source": [
        "from keras.callbacks import ModelCheckpoint\n",
        "checkpoint_callback = ModelCheckpoint(os.path.join('models','checkpoint'), monitor='loss', save_weights_only=True)"
      ],
      "metadata": {
        "id": "7aDGsAOl7Yws"
      },
      "execution_count": 46,
      "outputs": []
    },
    {
      "cell_type": "code",
      "source": [
        "!pip install torchbearer"
      ],
      "metadata": {
        "colab": {
          "base_uri": "https://localhost:8080/"
        },
        "id": "nws4HrUEGKqQ",
        "outputId": "e450f8c0-621e-4793-ba73-5adbb727c342"
      },
      "execution_count": 47,
      "outputs": [
        {
          "output_type": "stream",
          "name": "stdout",
          "text": [
            "Collecting torchbearer\n",
            "  Downloading torchbearer-0.5.5-py3-none-any.whl (139 kB)\n",
            "\u001b[?25l     \u001b[90m━━━━━━━━━━━━━━━━━━━━━━━━━━━━━━━━━━━━━━━━\u001b[0m \u001b[32m0.0/139.4 kB\u001b[0m \u001b[31m?\u001b[0m eta \u001b[36m-:--:--\u001b[0m\r\u001b[2K     \u001b[90m━━━━━━━━━━━━━━━━━━━━━━━━━━━━━━━━━━━━━━━━\u001b[0m \u001b[32m139.4/139.4 kB\u001b[0m \u001b[31m4.8 MB/s\u001b[0m eta \u001b[36m0:00:00\u001b[0m\n",
            "\u001b[?25hRequirement already satisfied: torch>=1.0.0 in /usr/local/lib/python3.10/dist-packages (from torchbearer) (2.1.0+cu121)\n",
            "Requirement already satisfied: numpy in /usr/local/lib/python3.10/dist-packages (from torchbearer) (1.23.5)\n",
            "Requirement already satisfied: tqdm in /usr/local/lib/python3.10/dist-packages (from torchbearer) (4.66.1)\n",
            "Requirement already satisfied: filelock in /usr/local/lib/python3.10/dist-packages (from torch>=1.0.0->torchbearer) (3.13.1)\n",
            "Requirement already satisfied: typing-extensions in /usr/local/lib/python3.10/dist-packages (from torch>=1.0.0->torchbearer) (4.9.0)\n",
            "Requirement already satisfied: sympy in /usr/local/lib/python3.10/dist-packages (from torch>=1.0.0->torchbearer) (1.12)\n",
            "Requirement already satisfied: networkx in /usr/local/lib/python3.10/dist-packages (from torch>=1.0.0->torchbearer) (3.2.1)\n",
            "Requirement already satisfied: jinja2 in /usr/local/lib/python3.10/dist-packages (from torch>=1.0.0->torchbearer) (3.1.3)\n",
            "Requirement already satisfied: fsspec in /usr/local/lib/python3.10/dist-packages (from torch>=1.0.0->torchbearer) (2023.6.0)\n",
            "Requirement already satisfied: triton==2.1.0 in /usr/local/lib/python3.10/dist-packages (from torch>=1.0.0->torchbearer) (2.1.0)\n",
            "Requirement already satisfied: MarkupSafe>=2.0 in /usr/local/lib/python3.10/dist-packages (from jinja2->torch>=1.0.0->torchbearer) (2.1.5)\n",
            "Requirement already satisfied: mpmath>=0.19 in /usr/local/lib/python3.10/dist-packages (from sympy->torch>=1.0.0->torchbearer) (1.3.0)\n",
            "Installing collected packages: torchbearer\n",
            "Successfully installed torchbearer-0.5.5\n"
          ]
        }
      ]
    },
    {
      "cell_type": "code",
      "source": [
        "from keras.callbacks import LearningRateScheduler"
      ],
      "metadata": {
        "id": "o6cxM7ruGgav"
      },
      "execution_count": 48,
      "outputs": []
    },
    {
      "cell_type": "code",
      "source": [
        "schedule_callback = LearningRateScheduler(scheduler)"
      ],
      "metadata": {
        "id": "vluRv45k7b9J"
      },
      "execution_count": 49,
      "outputs": []
    },
    {
      "cell_type": "code",
      "source": [
        "example_callback = ProduceExample(test)"
      ],
      "metadata": {
        "id": "dUHf4QwJ7f43"
      },
      "execution_count": 50,
      "outputs": []
    },
    {
      "cell_type": "code",
      "source": [
        "model.fit(train, validation_data=test, epochs=100, callbacks=[checkpoint_callback, schedule_callback, example_callback])"
      ],
      "metadata": {
        "colab": {
          "base_uri": "https://localhost:8080/",
          "height": 355
        },
        "id": "nlSSa7Mw7i34",
        "outputId": "608fa095-a12a-42a4-8446-dcaf18ea1098"
      },
      "execution_count": 51,
      "outputs": [
        {
          "output_type": "stream",
          "name": "stdout",
          "text": [
            "Epoch 1/100\n",
            " 50/450 [==>...........................] - ETA: 6:31 - loss: 121.7879"
          ]
        },
        {
          "output_type": "error",
          "ename": "KeyboardInterrupt",
          "evalue": "",
          "traceback": [
            "\u001b[0;31m---------------------------------------------------------------------------\u001b[0m",
            "\u001b[0;31mKeyboardInterrupt\u001b[0m                         Traceback (most recent call last)",
            "\u001b[0;32m<ipython-input-51-3f54ab0eeaa9>\u001b[0m in \u001b[0;36m<cell line: 1>\u001b[0;34m()\u001b[0m\n\u001b[0;32m----> 1\u001b[0;31m \u001b[0mmodel\u001b[0m\u001b[0;34m.\u001b[0m\u001b[0mfit\u001b[0m\u001b[0;34m(\u001b[0m\u001b[0mtrain\u001b[0m\u001b[0;34m,\u001b[0m \u001b[0mvalidation_data\u001b[0m\u001b[0;34m=\u001b[0m\u001b[0mtest\u001b[0m\u001b[0;34m,\u001b[0m \u001b[0mepochs\u001b[0m\u001b[0;34m=\u001b[0m\u001b[0;36m100\u001b[0m\u001b[0;34m,\u001b[0m \u001b[0mcallbacks\u001b[0m\u001b[0;34m=\u001b[0m\u001b[0;34m[\u001b[0m\u001b[0mcheckpoint_callback\u001b[0m\u001b[0;34m,\u001b[0m \u001b[0mschedule_callback\u001b[0m\u001b[0;34m,\u001b[0m \u001b[0mexample_callback\u001b[0m\u001b[0;34m]\u001b[0m\u001b[0;34m)\u001b[0m\u001b[0;34m\u001b[0m\u001b[0;34m\u001b[0m\u001b[0m\n\u001b[0m",
            "\u001b[0;32m/usr/local/lib/python3.10/dist-packages/keras/src/utils/traceback_utils.py\u001b[0m in \u001b[0;36merror_handler\u001b[0;34m(*args, **kwargs)\u001b[0m\n\u001b[1;32m     63\u001b[0m         \u001b[0mfiltered_tb\u001b[0m \u001b[0;34m=\u001b[0m \u001b[0;32mNone\u001b[0m\u001b[0;34m\u001b[0m\u001b[0;34m\u001b[0m\u001b[0m\n\u001b[1;32m     64\u001b[0m         \u001b[0;32mtry\u001b[0m\u001b[0;34m:\u001b[0m\u001b[0;34m\u001b[0m\u001b[0;34m\u001b[0m\u001b[0m\n\u001b[0;32m---> 65\u001b[0;31m             \u001b[0;32mreturn\u001b[0m \u001b[0mfn\u001b[0m\u001b[0;34m(\u001b[0m\u001b[0;34m*\u001b[0m\u001b[0margs\u001b[0m\u001b[0;34m,\u001b[0m \u001b[0;34m**\u001b[0m\u001b[0mkwargs\u001b[0m\u001b[0;34m)\u001b[0m\u001b[0;34m\u001b[0m\u001b[0;34m\u001b[0m\u001b[0m\n\u001b[0m\u001b[1;32m     66\u001b[0m         \u001b[0;32mexcept\u001b[0m \u001b[0mException\u001b[0m \u001b[0;32mas\u001b[0m \u001b[0me\u001b[0m\u001b[0;34m:\u001b[0m\u001b[0;34m\u001b[0m\u001b[0;34m\u001b[0m\u001b[0m\n\u001b[1;32m     67\u001b[0m             \u001b[0mfiltered_tb\u001b[0m \u001b[0;34m=\u001b[0m \u001b[0m_process_traceback_frames\u001b[0m\u001b[0;34m(\u001b[0m\u001b[0me\u001b[0m\u001b[0;34m.\u001b[0m\u001b[0m__traceback__\u001b[0m\u001b[0;34m)\u001b[0m\u001b[0;34m\u001b[0m\u001b[0;34m\u001b[0m\u001b[0m\n",
            "\u001b[0;32m/usr/local/lib/python3.10/dist-packages/keras/src/engine/training.py\u001b[0m in \u001b[0;36mfit\u001b[0;34m(self, x, y, batch_size, epochs, verbose, callbacks, validation_split, validation_data, shuffle, class_weight, sample_weight, initial_epoch, steps_per_epoch, validation_steps, validation_batch_size, validation_freq, max_queue_size, workers, use_multiprocessing)\u001b[0m\n\u001b[1;32m   1805\u001b[0m                         ):\n\u001b[1;32m   1806\u001b[0m                             \u001b[0mcallbacks\u001b[0m\u001b[0;34m.\u001b[0m\u001b[0mon_train_batch_begin\u001b[0m\u001b[0;34m(\u001b[0m\u001b[0mstep\u001b[0m\u001b[0;34m)\u001b[0m\u001b[0;34m\u001b[0m\u001b[0;34m\u001b[0m\u001b[0m\n\u001b[0;32m-> 1807\u001b[0;31m                             \u001b[0mtmp_logs\u001b[0m \u001b[0;34m=\u001b[0m \u001b[0mself\u001b[0m\u001b[0;34m.\u001b[0m\u001b[0mtrain_function\u001b[0m\u001b[0;34m(\u001b[0m\u001b[0miterator\u001b[0m\u001b[0;34m)\u001b[0m\u001b[0;34m\u001b[0m\u001b[0;34m\u001b[0m\u001b[0m\n\u001b[0m\u001b[1;32m   1808\u001b[0m                             \u001b[0;32mif\u001b[0m \u001b[0mdata_handler\u001b[0m\u001b[0;34m.\u001b[0m\u001b[0mshould_sync\u001b[0m\u001b[0;34m:\u001b[0m\u001b[0;34m\u001b[0m\u001b[0;34m\u001b[0m\u001b[0m\n\u001b[1;32m   1809\u001b[0m                                 \u001b[0mcontext\u001b[0m\u001b[0;34m.\u001b[0m\u001b[0masync_wait\u001b[0m\u001b[0;34m(\u001b[0m\u001b[0;34m)\u001b[0m\u001b[0;34m\u001b[0m\u001b[0;34m\u001b[0m\u001b[0m\n",
            "\u001b[0;32m/usr/local/lib/python3.10/dist-packages/tensorflow/python/util/traceback_utils.py\u001b[0m in \u001b[0;36merror_handler\u001b[0;34m(*args, **kwargs)\u001b[0m\n\u001b[1;32m    148\u001b[0m     \u001b[0mfiltered_tb\u001b[0m \u001b[0;34m=\u001b[0m \u001b[0;32mNone\u001b[0m\u001b[0;34m\u001b[0m\u001b[0;34m\u001b[0m\u001b[0m\n\u001b[1;32m    149\u001b[0m     \u001b[0;32mtry\u001b[0m\u001b[0;34m:\u001b[0m\u001b[0;34m\u001b[0m\u001b[0;34m\u001b[0m\u001b[0m\n\u001b[0;32m--> 150\u001b[0;31m       \u001b[0;32mreturn\u001b[0m \u001b[0mfn\u001b[0m\u001b[0;34m(\u001b[0m\u001b[0;34m*\u001b[0m\u001b[0margs\u001b[0m\u001b[0;34m,\u001b[0m \u001b[0;34m**\u001b[0m\u001b[0mkwargs\u001b[0m\u001b[0;34m)\u001b[0m\u001b[0;34m\u001b[0m\u001b[0;34m\u001b[0m\u001b[0m\n\u001b[0m\u001b[1;32m    151\u001b[0m     \u001b[0;32mexcept\u001b[0m \u001b[0mException\u001b[0m \u001b[0;32mas\u001b[0m \u001b[0me\u001b[0m\u001b[0;34m:\u001b[0m\u001b[0;34m\u001b[0m\u001b[0;34m\u001b[0m\u001b[0m\n\u001b[1;32m    152\u001b[0m       \u001b[0mfiltered_tb\u001b[0m \u001b[0;34m=\u001b[0m \u001b[0m_process_traceback_frames\u001b[0m\u001b[0;34m(\u001b[0m\u001b[0me\u001b[0m\u001b[0;34m.\u001b[0m\u001b[0m__traceback__\u001b[0m\u001b[0;34m)\u001b[0m\u001b[0;34m\u001b[0m\u001b[0;34m\u001b[0m\u001b[0m\n",
            "\u001b[0;32m/usr/local/lib/python3.10/dist-packages/tensorflow/python/eager/polymorphic_function/polymorphic_function.py\u001b[0m in \u001b[0;36m__call__\u001b[0;34m(self, *args, **kwds)\u001b[0m\n\u001b[1;32m    830\u001b[0m \u001b[0;34m\u001b[0m\u001b[0m\n\u001b[1;32m    831\u001b[0m       \u001b[0;32mwith\u001b[0m \u001b[0mOptionalXlaContext\u001b[0m\u001b[0;34m(\u001b[0m\u001b[0mself\u001b[0m\u001b[0;34m.\u001b[0m\u001b[0m_jit_compile\u001b[0m\u001b[0;34m)\u001b[0m\u001b[0;34m:\u001b[0m\u001b[0;34m\u001b[0m\u001b[0;34m\u001b[0m\u001b[0m\n\u001b[0;32m--> 832\u001b[0;31m         \u001b[0mresult\u001b[0m \u001b[0;34m=\u001b[0m \u001b[0mself\u001b[0m\u001b[0;34m.\u001b[0m\u001b[0m_call\u001b[0m\u001b[0;34m(\u001b[0m\u001b[0;34m*\u001b[0m\u001b[0margs\u001b[0m\u001b[0;34m,\u001b[0m \u001b[0;34m**\u001b[0m\u001b[0mkwds\u001b[0m\u001b[0;34m)\u001b[0m\u001b[0;34m\u001b[0m\u001b[0;34m\u001b[0m\u001b[0m\n\u001b[0m\u001b[1;32m    833\u001b[0m \u001b[0;34m\u001b[0m\u001b[0m\n\u001b[1;32m    834\u001b[0m       \u001b[0mnew_tracing_count\u001b[0m \u001b[0;34m=\u001b[0m \u001b[0mself\u001b[0m\u001b[0;34m.\u001b[0m\u001b[0mexperimental_get_tracing_count\u001b[0m\u001b[0;34m(\u001b[0m\u001b[0;34m)\u001b[0m\u001b[0;34m\u001b[0m\u001b[0;34m\u001b[0m\u001b[0m\n",
            "\u001b[0;32m/usr/local/lib/python3.10/dist-packages/tensorflow/python/eager/polymorphic_function/polymorphic_function.py\u001b[0m in \u001b[0;36m_call\u001b[0;34m(self, *args, **kwds)\u001b[0m\n\u001b[1;32m    866\u001b[0m       \u001b[0;31m# In this case we have created variables on the first call, so we run the\u001b[0m\u001b[0;34m\u001b[0m\u001b[0;34m\u001b[0m\u001b[0m\n\u001b[1;32m    867\u001b[0m       \u001b[0;31m# defunned version which is guaranteed to never create variables.\u001b[0m\u001b[0;34m\u001b[0m\u001b[0;34m\u001b[0m\u001b[0m\n\u001b[0;32m--> 868\u001b[0;31m       return tracing_compilation.call_function(\n\u001b[0m\u001b[1;32m    869\u001b[0m           \u001b[0margs\u001b[0m\u001b[0;34m,\u001b[0m \u001b[0mkwds\u001b[0m\u001b[0;34m,\u001b[0m \u001b[0mself\u001b[0m\u001b[0;34m.\u001b[0m\u001b[0m_no_variable_creation_config\u001b[0m\u001b[0;34m\u001b[0m\u001b[0;34m\u001b[0m\u001b[0m\n\u001b[1;32m    870\u001b[0m       )\n",
            "\u001b[0;32m/usr/local/lib/python3.10/dist-packages/tensorflow/python/eager/polymorphic_function/tracing_compilation.py\u001b[0m in \u001b[0;36mcall_function\u001b[0;34m(args, kwargs, tracing_options)\u001b[0m\n\u001b[1;32m    137\u001b[0m   \u001b[0mbound_args\u001b[0m \u001b[0;34m=\u001b[0m \u001b[0mfunction\u001b[0m\u001b[0;34m.\u001b[0m\u001b[0mfunction_type\u001b[0m\u001b[0;34m.\u001b[0m\u001b[0mbind\u001b[0m\u001b[0;34m(\u001b[0m\u001b[0;34m*\u001b[0m\u001b[0margs\u001b[0m\u001b[0;34m,\u001b[0m \u001b[0;34m**\u001b[0m\u001b[0mkwargs\u001b[0m\u001b[0;34m)\u001b[0m\u001b[0;34m\u001b[0m\u001b[0;34m\u001b[0m\u001b[0m\n\u001b[1;32m    138\u001b[0m   \u001b[0mflat_inputs\u001b[0m \u001b[0;34m=\u001b[0m \u001b[0mfunction\u001b[0m\u001b[0;34m.\u001b[0m\u001b[0mfunction_type\u001b[0m\u001b[0;34m.\u001b[0m\u001b[0munpack_inputs\u001b[0m\u001b[0;34m(\u001b[0m\u001b[0mbound_args\u001b[0m\u001b[0;34m)\u001b[0m\u001b[0;34m\u001b[0m\u001b[0;34m\u001b[0m\u001b[0m\n\u001b[0;32m--> 139\u001b[0;31m   return function._call_flat(  # pylint: disable=protected-access\n\u001b[0m\u001b[1;32m    140\u001b[0m       \u001b[0mflat_inputs\u001b[0m\u001b[0;34m,\u001b[0m \u001b[0mcaptured_inputs\u001b[0m\u001b[0;34m=\u001b[0m\u001b[0mfunction\u001b[0m\u001b[0;34m.\u001b[0m\u001b[0mcaptured_inputs\u001b[0m\u001b[0;34m\u001b[0m\u001b[0;34m\u001b[0m\u001b[0m\n\u001b[1;32m    141\u001b[0m   )\n",
            "\u001b[0;32m/usr/local/lib/python3.10/dist-packages/tensorflow/python/eager/polymorphic_function/concrete_function.py\u001b[0m in \u001b[0;36m_call_flat\u001b[0;34m(self, tensor_inputs, captured_inputs)\u001b[0m\n\u001b[1;32m   1321\u001b[0m         and executing_eagerly):\n\u001b[1;32m   1322\u001b[0m       \u001b[0;31m# No tape is watching; skip to running the function.\u001b[0m\u001b[0;34m\u001b[0m\u001b[0;34m\u001b[0m\u001b[0m\n\u001b[0;32m-> 1323\u001b[0;31m       \u001b[0;32mreturn\u001b[0m \u001b[0mself\u001b[0m\u001b[0;34m.\u001b[0m\u001b[0m_inference_function\u001b[0m\u001b[0;34m.\u001b[0m\u001b[0mcall_preflattened\u001b[0m\u001b[0;34m(\u001b[0m\u001b[0margs\u001b[0m\u001b[0;34m)\u001b[0m\u001b[0;34m\u001b[0m\u001b[0;34m\u001b[0m\u001b[0m\n\u001b[0m\u001b[1;32m   1324\u001b[0m     forward_backward = self._select_forward_and_backward_functions(\n\u001b[1;32m   1325\u001b[0m         \u001b[0margs\u001b[0m\u001b[0;34m,\u001b[0m\u001b[0;34m\u001b[0m\u001b[0;34m\u001b[0m\u001b[0m\n",
            "\u001b[0;32m/usr/local/lib/python3.10/dist-packages/tensorflow/python/eager/polymorphic_function/atomic_function.py\u001b[0m in \u001b[0;36mcall_preflattened\u001b[0;34m(self, args)\u001b[0m\n\u001b[1;32m    214\u001b[0m   \u001b[0;32mdef\u001b[0m \u001b[0mcall_preflattened\u001b[0m\u001b[0;34m(\u001b[0m\u001b[0mself\u001b[0m\u001b[0;34m,\u001b[0m \u001b[0margs\u001b[0m\u001b[0;34m:\u001b[0m \u001b[0mSequence\u001b[0m\u001b[0;34m[\u001b[0m\u001b[0mcore\u001b[0m\u001b[0;34m.\u001b[0m\u001b[0mTensor\u001b[0m\u001b[0;34m]\u001b[0m\u001b[0;34m)\u001b[0m \u001b[0;34m->\u001b[0m \u001b[0mAny\u001b[0m\u001b[0;34m:\u001b[0m\u001b[0;34m\u001b[0m\u001b[0;34m\u001b[0m\u001b[0m\n\u001b[1;32m    215\u001b[0m     \u001b[0;34m\"\"\"Calls with flattened tensor inputs and returns the structured output.\"\"\"\u001b[0m\u001b[0;34m\u001b[0m\u001b[0;34m\u001b[0m\u001b[0m\n\u001b[0;32m--> 216\u001b[0;31m     \u001b[0mflat_outputs\u001b[0m \u001b[0;34m=\u001b[0m \u001b[0mself\u001b[0m\u001b[0;34m.\u001b[0m\u001b[0mcall_flat\u001b[0m\u001b[0;34m(\u001b[0m\u001b[0;34m*\u001b[0m\u001b[0margs\u001b[0m\u001b[0;34m)\u001b[0m\u001b[0;34m\u001b[0m\u001b[0;34m\u001b[0m\u001b[0m\n\u001b[0m\u001b[1;32m    217\u001b[0m     \u001b[0;32mreturn\u001b[0m \u001b[0mself\u001b[0m\u001b[0;34m.\u001b[0m\u001b[0mfunction_type\u001b[0m\u001b[0;34m.\u001b[0m\u001b[0mpack_output\u001b[0m\u001b[0;34m(\u001b[0m\u001b[0mflat_outputs\u001b[0m\u001b[0;34m)\u001b[0m\u001b[0;34m\u001b[0m\u001b[0;34m\u001b[0m\u001b[0m\n\u001b[1;32m    218\u001b[0m \u001b[0;34m\u001b[0m\u001b[0m\n",
            "\u001b[0;32m/usr/local/lib/python3.10/dist-packages/tensorflow/python/eager/polymorphic_function/atomic_function.py\u001b[0m in \u001b[0;36mcall_flat\u001b[0;34m(self, *args)\u001b[0m\n\u001b[1;32m    249\u001b[0m         \u001b[0;32mwith\u001b[0m \u001b[0mrecord\u001b[0m\u001b[0;34m.\u001b[0m\u001b[0mstop_recording\u001b[0m\u001b[0;34m(\u001b[0m\u001b[0;34m)\u001b[0m\u001b[0;34m:\u001b[0m\u001b[0;34m\u001b[0m\u001b[0;34m\u001b[0m\u001b[0m\n\u001b[1;32m    250\u001b[0m           \u001b[0;32mif\u001b[0m \u001b[0mself\u001b[0m\u001b[0;34m.\u001b[0m\u001b[0m_bound_context\u001b[0m\u001b[0;34m.\u001b[0m\u001b[0mexecuting_eagerly\u001b[0m\u001b[0;34m(\u001b[0m\u001b[0;34m)\u001b[0m\u001b[0;34m:\u001b[0m\u001b[0;34m\u001b[0m\u001b[0;34m\u001b[0m\u001b[0m\n\u001b[0;32m--> 251\u001b[0;31m             outputs = self._bound_context.call_function(\n\u001b[0m\u001b[1;32m    252\u001b[0m                 \u001b[0mself\u001b[0m\u001b[0;34m.\u001b[0m\u001b[0mname\u001b[0m\u001b[0;34m,\u001b[0m\u001b[0;34m\u001b[0m\u001b[0;34m\u001b[0m\u001b[0m\n\u001b[1;32m    253\u001b[0m                 \u001b[0mlist\u001b[0m\u001b[0;34m(\u001b[0m\u001b[0margs\u001b[0m\u001b[0;34m)\u001b[0m\u001b[0;34m,\u001b[0m\u001b[0;34m\u001b[0m\u001b[0;34m\u001b[0m\u001b[0m\n",
            "\u001b[0;32m/usr/local/lib/python3.10/dist-packages/tensorflow/python/eager/context.py\u001b[0m in \u001b[0;36mcall_function\u001b[0;34m(self, name, tensor_inputs, num_outputs)\u001b[0m\n\u001b[1;32m   1484\u001b[0m     \u001b[0mcancellation_context\u001b[0m \u001b[0;34m=\u001b[0m \u001b[0mcancellation\u001b[0m\u001b[0;34m.\u001b[0m\u001b[0mcontext\u001b[0m\u001b[0;34m(\u001b[0m\u001b[0;34m)\u001b[0m\u001b[0;34m\u001b[0m\u001b[0;34m\u001b[0m\u001b[0m\n\u001b[1;32m   1485\u001b[0m     \u001b[0;32mif\u001b[0m \u001b[0mcancellation_context\u001b[0m \u001b[0;32mis\u001b[0m \u001b[0;32mNone\u001b[0m\u001b[0;34m:\u001b[0m\u001b[0;34m\u001b[0m\u001b[0;34m\u001b[0m\u001b[0m\n\u001b[0;32m-> 1486\u001b[0;31m       outputs = execute.execute(\n\u001b[0m\u001b[1;32m   1487\u001b[0m           \u001b[0mname\u001b[0m\u001b[0;34m.\u001b[0m\u001b[0mdecode\u001b[0m\u001b[0;34m(\u001b[0m\u001b[0;34m\"utf-8\"\u001b[0m\u001b[0;34m)\u001b[0m\u001b[0;34m,\u001b[0m\u001b[0;34m\u001b[0m\u001b[0;34m\u001b[0m\u001b[0m\n\u001b[1;32m   1488\u001b[0m           \u001b[0mnum_outputs\u001b[0m\u001b[0;34m=\u001b[0m\u001b[0mnum_outputs\u001b[0m\u001b[0;34m,\u001b[0m\u001b[0;34m\u001b[0m\u001b[0;34m\u001b[0m\u001b[0m\n",
            "\u001b[0;32m/usr/local/lib/python3.10/dist-packages/tensorflow/python/eager/execute.py\u001b[0m in \u001b[0;36mquick_execute\u001b[0;34m(op_name, num_outputs, inputs, attrs, ctx, name)\u001b[0m\n\u001b[1;32m     51\u001b[0m   \u001b[0;32mtry\u001b[0m\u001b[0;34m:\u001b[0m\u001b[0;34m\u001b[0m\u001b[0;34m\u001b[0m\u001b[0m\n\u001b[1;32m     52\u001b[0m     \u001b[0mctx\u001b[0m\u001b[0;34m.\u001b[0m\u001b[0mensure_initialized\u001b[0m\u001b[0;34m(\u001b[0m\u001b[0;34m)\u001b[0m\u001b[0;34m\u001b[0m\u001b[0;34m\u001b[0m\u001b[0m\n\u001b[0;32m---> 53\u001b[0;31m     tensors = pywrap_tfe.TFE_Py_Execute(ctx._handle, device_name, op_name,\n\u001b[0m\u001b[1;32m     54\u001b[0m                                         inputs, attrs, num_outputs)\n\u001b[1;32m     55\u001b[0m   \u001b[0;32mexcept\u001b[0m \u001b[0mcore\u001b[0m\u001b[0;34m.\u001b[0m\u001b[0m_NotOkStatusException\u001b[0m \u001b[0;32mas\u001b[0m \u001b[0me\u001b[0m\u001b[0;34m:\u001b[0m\u001b[0;34m\u001b[0m\u001b[0;34m\u001b[0m\u001b[0m\n",
            "\u001b[0;31mKeyboardInterrupt\u001b[0m: "
          ]
        }
      ]
    },
    {
      "cell_type": "code",
      "source": [
        "url = 'https://drive.google.com/uc?id=1vWscXs4Vt0a_1IH1-ct2TCgXAZT-N3_Y'\n",
        "output = 'checkpoints.zip'\n",
        "gdown.download(url, output, quiet=False)\n",
        "gdown.extractall('checkpoints.zip', 'models')"
      ],
      "metadata": {
        "colab": {
          "base_uri": "https://localhost:8080/"
        },
        "id": "NMLzVnyAHGTp",
        "outputId": "694000aa-44ee-422a-bb96-1ba4dcd7af3b"
      },
      "execution_count": 52,
      "outputs": [
        {
          "output_type": "stream",
          "name": "stderr",
          "text": [
            "Downloading...\n",
            "From (original): https://drive.google.com/uc?id=1vWscXs4Vt0a_1IH1-ct2TCgXAZT-N3_Y\n",
            "From (redirected): https://drive.google.com/uc?id=1vWscXs4Vt0a_1IH1-ct2TCgXAZT-N3_Y&confirm=t&uuid=471993ab-d300-405f-b6ec-e3c26c0ab8e9\n",
            "To: /content/checkpoints.zip\n",
            "100%|██████████| 94.5M/94.5M [00:00<00:00, 116MB/s]\n"
          ]
        },
        {
          "output_type": "execute_result",
          "data": {
            "text/plain": [
              "['models/checkpoint.index',\n",
              " 'models/__MACOSX/._checkpoint.index',\n",
              " 'models/checkpoint.data-00000-of-00001',\n",
              " 'models/__MACOSX/._checkpoint.data-00000-of-00001',\n",
              " 'models/checkpoint',\n",
              " 'models/__MACOSX/._checkpoint']"
            ]
          },
          "metadata": {},
          "execution_count": 52
        }
      ]
    },
    {
      "cell_type": "code",
      "source": [
        "!pip install tensorflow==2.10"
      ],
      "metadata": {
        "colab": {
          "base_uri": "https://localhost:8080/",
          "height": 1000
        },
        "id": "NVbP8WX8LxmB",
        "outputId": "bc73a661-8872-4e7f-bb4c-0b3e7cc06dc3"
      },
      "execution_count": 53,
      "outputs": [
        {
          "output_type": "stream",
          "name": "stdout",
          "text": [
            "Collecting tensorflow==2.10\n",
            "  Downloading tensorflow-2.10.0-cp310-cp310-manylinux_2_17_x86_64.manylinux2014_x86_64.whl (578.0 MB)\n",
            "\u001b[2K     \u001b[90m━━━━━━━━━━━━━━━━━━━━━━━━━━━━━━━━━━━━━━━━\u001b[0m \u001b[32m578.0/578.0 MB\u001b[0m \u001b[31m2.7 MB/s\u001b[0m eta \u001b[36m0:00:00\u001b[0m\n",
            "\u001b[?25hRequirement already satisfied: absl-py>=1.0.0 in /usr/local/lib/python3.10/dist-packages (from tensorflow==2.10) (1.4.0)\n",
            "Requirement already satisfied: astunparse>=1.6.0 in /usr/local/lib/python3.10/dist-packages (from tensorflow==2.10) (1.6.3)\n",
            "Requirement already satisfied: flatbuffers>=2.0 in /usr/local/lib/python3.10/dist-packages (from tensorflow==2.10) (23.5.26)\n",
            "Collecting gast<=0.4.0,>=0.2.1 (from tensorflow==2.10)\n",
            "  Downloading gast-0.4.0-py3-none-any.whl (9.8 kB)\n",
            "Requirement already satisfied: google-pasta>=0.1.1 in /usr/local/lib/python3.10/dist-packages (from tensorflow==2.10) (0.2.0)\n",
            "Requirement already satisfied: grpcio<2.0,>=1.24.3 in /usr/local/lib/python3.10/dist-packages (from tensorflow==2.10) (1.60.1)\n",
            "Requirement already satisfied: h5py>=2.9.0 in /usr/local/lib/python3.10/dist-packages (from tensorflow==2.10) (3.9.0)\n",
            "Collecting keras<2.11,>=2.10.0 (from tensorflow==2.10)\n",
            "  Downloading keras-2.10.0-py2.py3-none-any.whl (1.7 MB)\n",
            "\u001b[2K     \u001b[90m━━━━━━━━━━━━━━━━━━━━━━━━━━━━━━━━━━━━━━━━\u001b[0m \u001b[32m1.7/1.7 MB\u001b[0m \u001b[31m92.1 MB/s\u001b[0m eta \u001b[36m0:00:00\u001b[0m\n",
            "\u001b[?25hCollecting keras-preprocessing>=1.1.1 (from tensorflow==2.10)\n",
            "  Downloading Keras_Preprocessing-1.1.2-py2.py3-none-any.whl (42 kB)\n",
            "\u001b[2K     \u001b[90m━━━━━━━━━━━━━━━━━━━━━━━━━━━━━━━━━━━━━━━━\u001b[0m \u001b[32m42.6/42.6 kB\u001b[0m \u001b[31m6.2 MB/s\u001b[0m eta \u001b[36m0:00:00\u001b[0m\n",
            "\u001b[?25hRequirement already satisfied: libclang>=13.0.0 in /usr/local/lib/python3.10/dist-packages (from tensorflow==2.10) (16.0.6)\n",
            "Requirement already satisfied: numpy>=1.20 in /usr/local/lib/python3.10/dist-packages (from tensorflow==2.10) (1.23.5)\n",
            "Requirement already satisfied: opt-einsum>=2.3.2 in /usr/local/lib/python3.10/dist-packages (from tensorflow==2.10) (3.3.0)\n",
            "Requirement already satisfied: packaging in /usr/local/lib/python3.10/dist-packages (from tensorflow==2.10) (23.2)\n",
            "Collecting protobuf<3.20,>=3.9.2 (from tensorflow==2.10)\n",
            "  Downloading protobuf-3.19.6-cp310-cp310-manylinux_2_17_x86_64.manylinux2014_x86_64.whl (1.1 MB)\n",
            "\u001b[2K     \u001b[90m━━━━━━━━━━━━━━━━━━━━━━━━━━━━━━━━━━━━━━━━\u001b[0m \u001b[32m1.1/1.1 MB\u001b[0m \u001b[31m80.0 MB/s\u001b[0m eta \u001b[36m0:00:00\u001b[0m\n",
            "\u001b[?25hRequirement already satisfied: setuptools in /usr/local/lib/python3.10/dist-packages (from tensorflow==2.10) (67.7.2)\n",
            "Requirement already satisfied: six>=1.12.0 in /usr/local/lib/python3.10/dist-packages (from tensorflow==2.10) (1.16.0)\n",
            "Collecting tensorboard<2.11,>=2.10 (from tensorflow==2.10)\n",
            "  Downloading tensorboard-2.10.1-py3-none-any.whl (5.9 MB)\n",
            "\u001b[2K     \u001b[90m━━━━━━━━━━━━━━━━━━━━━━━━━━━━━━━━━━━━━━━━\u001b[0m \u001b[32m5.9/5.9 MB\u001b[0m \u001b[31m92.3 MB/s\u001b[0m eta \u001b[36m0:00:00\u001b[0m\n",
            "\u001b[?25hRequirement already satisfied: tensorflow-io-gcs-filesystem>=0.23.1 in /usr/local/lib/python3.10/dist-packages (from tensorflow==2.10) (0.36.0)\n",
            "Collecting tensorflow-estimator<2.11,>=2.10.0 (from tensorflow==2.10)\n",
            "  Downloading tensorflow_estimator-2.10.0-py2.py3-none-any.whl (438 kB)\n",
            "\u001b[2K     \u001b[90m━━━━━━━━━━━━━━━━━━━━━━━━━━━━━━━━━━━━━━━━\u001b[0m \u001b[32m438.7/438.7 kB\u001b[0m \u001b[31m56.5 MB/s\u001b[0m eta \u001b[36m0:00:00\u001b[0m\n",
            "\u001b[?25hRequirement already satisfied: termcolor>=1.1.0 in /usr/local/lib/python3.10/dist-packages (from tensorflow==2.10) (2.4.0)\n",
            "Requirement already satisfied: typing-extensions>=3.6.6 in /usr/local/lib/python3.10/dist-packages (from tensorflow==2.10) (4.9.0)\n",
            "Requirement already satisfied: wrapt>=1.11.0 in /usr/local/lib/python3.10/dist-packages (from tensorflow==2.10) (1.14.1)\n",
            "Requirement already satisfied: wheel<1.0,>=0.23.0 in /usr/local/lib/python3.10/dist-packages (from astunparse>=1.6.0->tensorflow==2.10) (0.42.0)\n",
            "Requirement already satisfied: google-auth<3,>=1.6.3 in /usr/local/lib/python3.10/dist-packages (from tensorboard<2.11,>=2.10->tensorflow==2.10) (2.17.3)\n",
            "Collecting google-auth-oauthlib<0.5,>=0.4.1 (from tensorboard<2.11,>=2.10->tensorflow==2.10)\n",
            "  Downloading google_auth_oauthlib-0.4.6-py2.py3-none-any.whl (18 kB)\n",
            "Requirement already satisfied: markdown>=2.6.8 in /usr/local/lib/python3.10/dist-packages (from tensorboard<2.11,>=2.10->tensorflow==2.10) (3.5.2)\n",
            "Requirement already satisfied: requests<3,>=2.21.0 in /usr/local/lib/python3.10/dist-packages (from tensorboard<2.11,>=2.10->tensorflow==2.10) (2.31.0)\n",
            "Collecting tensorboard-data-server<0.7.0,>=0.6.0 (from tensorboard<2.11,>=2.10->tensorflow==2.10)\n",
            "  Downloading tensorboard_data_server-0.6.1-py3-none-manylinux2010_x86_64.whl (4.9 MB)\n",
            "\u001b[2K     \u001b[90m━━━━━━━━━━━━━━━━━━━━━━━━━━━━━━━━━━━━━━━━\u001b[0m \u001b[32m4.9/4.9 MB\u001b[0m \u001b[31m96.9 MB/s\u001b[0m eta \u001b[36m0:00:00\u001b[0m\n",
            "\u001b[?25hCollecting tensorboard-plugin-wit>=1.6.0 (from tensorboard<2.11,>=2.10->tensorflow==2.10)\n",
            "  Downloading tensorboard_plugin_wit-1.8.1-py3-none-any.whl (781 kB)\n",
            "\u001b[2K     \u001b[90m━━━━━━━━━━━━━━━━━━━━━━━━━━━━━━━━━━━━━━━━\u001b[0m \u001b[32m781.3/781.3 kB\u001b[0m \u001b[31m75.5 MB/s\u001b[0m eta \u001b[36m0:00:00\u001b[0m\n",
            "\u001b[?25hRequirement already satisfied: werkzeug>=1.0.1 in /usr/local/lib/python3.10/dist-packages (from tensorboard<2.11,>=2.10->tensorflow==2.10) (3.0.1)\n",
            "Requirement already satisfied: cachetools<6.0,>=2.0.0 in /usr/local/lib/python3.10/dist-packages (from google-auth<3,>=1.6.3->tensorboard<2.11,>=2.10->tensorflow==2.10) (5.3.2)\n",
            "Requirement already satisfied: pyasn1-modules>=0.2.1 in /usr/local/lib/python3.10/dist-packages (from google-auth<3,>=1.6.3->tensorboard<2.11,>=2.10->tensorflow==2.10) (0.3.0)\n",
            "Requirement already satisfied: rsa<5,>=3.1.4 in /usr/local/lib/python3.10/dist-packages (from google-auth<3,>=1.6.3->tensorboard<2.11,>=2.10->tensorflow==2.10) (4.9)\n",
            "Requirement already satisfied: requests-oauthlib>=0.7.0 in /usr/local/lib/python3.10/dist-packages (from google-auth-oauthlib<0.5,>=0.4.1->tensorboard<2.11,>=2.10->tensorflow==2.10) (1.3.1)\n",
            "Requirement already satisfied: charset-normalizer<4,>=2 in /usr/local/lib/python3.10/dist-packages (from requests<3,>=2.21.0->tensorboard<2.11,>=2.10->tensorflow==2.10) (3.3.2)\n",
            "Requirement already satisfied: idna<4,>=2.5 in /usr/local/lib/python3.10/dist-packages (from requests<3,>=2.21.0->tensorboard<2.11,>=2.10->tensorflow==2.10) (3.6)\n",
            "Requirement already satisfied: urllib3<3,>=1.21.1 in /usr/local/lib/python3.10/dist-packages (from requests<3,>=2.21.0->tensorboard<2.11,>=2.10->tensorflow==2.10) (2.0.7)\n",
            "Requirement already satisfied: certifi>=2017.4.17 in /usr/local/lib/python3.10/dist-packages (from requests<3,>=2.21.0->tensorboard<2.11,>=2.10->tensorflow==2.10) (2024.2.2)\n",
            "Requirement already satisfied: MarkupSafe>=2.1.1 in /usr/local/lib/python3.10/dist-packages (from werkzeug>=1.0.1->tensorboard<2.11,>=2.10->tensorflow==2.10) (2.1.5)\n",
            "Requirement already satisfied: pyasn1<0.6.0,>=0.4.6 in /usr/local/lib/python3.10/dist-packages (from pyasn1-modules>=0.2.1->google-auth<3,>=1.6.3->tensorboard<2.11,>=2.10->tensorflow==2.10) (0.5.1)\n",
            "Requirement already satisfied: oauthlib>=3.0.0 in /usr/local/lib/python3.10/dist-packages (from requests-oauthlib>=0.7.0->google-auth-oauthlib<0.5,>=0.4.1->tensorboard<2.11,>=2.10->tensorflow==2.10) (3.2.2)\n",
            "Installing collected packages: tensorboard-plugin-wit, keras, tensorflow-estimator, tensorboard-data-server, protobuf, keras-preprocessing, gast, google-auth-oauthlib, tensorboard, tensorflow\n",
            "  Attempting uninstall: keras\n",
            "    Found existing installation: keras 2.15.0\n",
            "    Uninstalling keras-2.15.0:\n",
            "      Successfully uninstalled keras-2.15.0\n",
            "  Attempting uninstall: tensorflow-estimator\n",
            "    Found existing installation: tensorflow-estimator 2.15.0\n",
            "    Uninstalling tensorflow-estimator-2.15.0:\n",
            "      Successfully uninstalled tensorflow-estimator-2.15.0\n",
            "  Attempting uninstall: tensorboard-data-server\n",
            "    Found existing installation: tensorboard-data-server 0.7.2\n",
            "    Uninstalling tensorboard-data-server-0.7.2:\n",
            "      Successfully uninstalled tensorboard-data-server-0.7.2\n",
            "  Attempting uninstall: protobuf\n",
            "    Found existing installation: protobuf 3.20.3\n",
            "    Uninstalling protobuf-3.20.3:\n",
            "      Successfully uninstalled protobuf-3.20.3\n",
            "  Attempting uninstall: gast\n",
            "    Found existing installation: gast 0.5.4\n",
            "    Uninstalling gast-0.5.4:\n",
            "      Successfully uninstalled gast-0.5.4\n",
            "  Attempting uninstall: google-auth-oauthlib\n",
            "    Found existing installation: google-auth-oauthlib 1.2.0\n",
            "    Uninstalling google-auth-oauthlib-1.2.0:\n",
            "      Successfully uninstalled google-auth-oauthlib-1.2.0\n",
            "  Attempting uninstall: tensorboard\n",
            "    Found existing installation: tensorboard 2.15.1\n",
            "    Uninstalling tensorboard-2.15.1:\n",
            "      Successfully uninstalled tensorboard-2.15.1\n",
            "  Attempting uninstall: tensorflow\n",
            "    Found existing installation: tensorflow 2.15.0\n",
            "    Uninstalling tensorflow-2.15.0:\n",
            "      Successfully uninstalled tensorflow-2.15.0\n",
            "\u001b[31mERROR: pip's dependency resolver does not currently take into account all the packages that are installed. This behaviour is the source of the following dependency conflicts.\n",
            "pandas-gbq 0.19.2 requires google-auth-oauthlib>=0.7.0, but you have google-auth-oauthlib 0.4.6 which is incompatible.\n",
            "tensorflow-datasets 4.9.4 requires protobuf>=3.20, but you have protobuf 3.19.6 which is incompatible.\n",
            "tensorflow-metadata 1.14.0 requires protobuf<4.21,>=3.20.3, but you have protobuf 3.19.6 which is incompatible.\u001b[0m\u001b[31m\n",
            "\u001b[0mSuccessfully installed gast-0.4.0 google-auth-oauthlib-0.4.6 keras-2.10.0 keras-preprocessing-1.1.2 protobuf-3.19.6 tensorboard-2.10.1 tensorboard-data-server-0.6.1 tensorboard-plugin-wit-1.8.1 tensorflow-2.10.0 tensorflow-estimator-2.10.0\n"
          ]
        },
        {
          "output_type": "display_data",
          "data": {
            "application/vnd.colab-display-data+json": {
              "pip_warning": {
                "packages": [
                  "gast",
                  "google",
                  "keras",
                  "tensorboard",
                  "tensorflow"
                ]
              }
            }
          },
          "metadata": {}
        }
      ]
    },
    {
      "cell_type": "code",
      "source": [
        "import tensorflow as tf\n",
        "from tensorflow.keras.models import load_model"
      ],
      "metadata": {
        "id": "5Fno_Ci1L3i_"
      },
      "execution_count": 55,
      "outputs": []
    },
    {
      "cell_type": "code",
      "source": [
        "model.optimizer = tf.keras.optimizers.legacy.Adam()"
      ],
      "metadata": {
        "id": "UNXOZNdcMNNH"
      },
      "execution_count": 56,
      "outputs": []
    },
    {
      "cell_type": "code",
      "source": [
        "model.load_weights('models/checkpoint')"
      ],
      "metadata": {
        "colab": {
          "base_uri": "https://localhost:8080/"
        },
        "id": "h06BVsOJLRU-",
        "outputId": "9a723fb7-f064-46b2-d6f8-53cd859b9f4c"
      },
      "execution_count": 57,
      "outputs": [
        {
          "output_type": "execute_result",
          "data": {
            "text/plain": [
              "<tensorflow.python.checkpoint.checkpoint.CheckpointLoadStatus at 0x790e4e5cafe0>"
            ]
          },
          "metadata": {},
          "execution_count": 57
        }
      ]
    },
    {
      "cell_type": "code",
      "source": [
        "test_data = test.as_numpy_iterator()"
      ],
      "metadata": {
        "id": "I03dYCsuLfRh"
      },
      "execution_count": 58,
      "outputs": []
    },
    {
      "cell_type": "code",
      "source": [
        "sample = test_data.next()"
      ],
      "metadata": {
        "id": "4w88YuSPMUU7"
      },
      "execution_count": 59,
      "outputs": []
    },
    {
      "cell_type": "code",
      "source": [
        "yhat = model.predict(sample[0])"
      ],
      "metadata": {
        "colab": {
          "base_uri": "https://localhost:8080/"
        },
        "id": "tK4YmVp2MXP1",
        "outputId": "afde9e5a-183e-49a4-da43-e706895e0bb1"
      },
      "execution_count": 60,
      "outputs": [
        {
          "output_type": "stream",
          "name": "stdout",
          "text": [
            "1/1 [==============================] - 3s 3s/step\n"
          ]
        }
      ]
    },
    {
      "cell_type": "code",
      "source": [
        "print('~'*100, 'REAL TEXT')\n",
        "[tf.strings.reduce_join([num_to_char(word) for word in sentence]) for sentence in sample[1]]"
      ],
      "metadata": {
        "colab": {
          "base_uri": "https://localhost:8080/"
        },
        "id": "xrHRWiSCNOlG",
        "outputId": "4778d64e-1e1b-4bad-fa40-822ade559e92"
      },
      "execution_count": 61,
      "outputs": [
        {
          "output_type": "stream",
          "name": "stdout",
          "text": [
            "~~~~~~~~~~~~~~~~~~~~~~~~~~~~~~~~~~~~~~~~~~~~~~~~~~~~~~~~~~~~~~~~~~~~~~~~~~~~~~~~~~~~~~~~~~~~~~~~~~~~ REAL TEXT\n"
          ]
        },
        {
          "output_type": "execute_result",
          "data": {
            "text/plain": [
              "[<tf.Tensor: shape=(), dtype=string, numpy=b'place red at j two please'>,\n",
              " <tf.Tensor: shape=(), dtype=string, numpy=b'bin red by g five again'>]"
            ]
          },
          "metadata": {},
          "execution_count": 61
        }
      ]
    },
    {
      "cell_type": "code",
      "source": [
        "decoded = tf.keras.backend.ctc_decode(yhat, input_length=[75,75], greedy=True)[0][0].numpy()"
      ],
      "metadata": {
        "id": "cRXlh7jzNTet"
      },
      "execution_count": 62,
      "outputs": []
    },
    {
      "cell_type": "code",
      "source": [
        "print('~'*100, 'PREDICTIONS')\n",
        "[tf.strings.reduce_join([num_to_char(word) for word in sentence]) for sentence in decoded]"
      ],
      "metadata": {
        "colab": {
          "base_uri": "https://localhost:8080/"
        },
        "id": "w25Mso7HNXCT",
        "outputId": "ea7c3d24-0bc6-475d-e958-5479059754b8"
      },
      "execution_count": 63,
      "outputs": [
        {
          "output_type": "stream",
          "name": "stdout",
          "text": [
            "~~~~~~~~~~~~~~~~~~~~~~~~~~~~~~~~~~~~~~~~~~~~~~~~~~~~~~~~~~~~~~~~~~~~~~~~~~~~~~~~~~~~~~~~~~~~~~~~~~~~ PREDICTIONS\n"
          ]
        },
        {
          "output_type": "execute_result",
          "data": {
            "text/plain": [
              "[<tf.Tensor: shape=(), dtype=string, numpy=b'place red at j two please'>,\n",
              " <tf.Tensor: shape=(), dtype=string, numpy=b'bin red by g five again'>]"
            ]
          },
          "metadata": {},
          "execution_count": 63
        }
      ]
    },
    {
      "cell_type": "code",
      "source": [
        "sample = load_data(tf.convert_to_tensor('./data/s1/bras9a.mpg'))"
      ],
      "metadata": {
        "id": "Ijy0FBARNaJc"
      },
      "execution_count": 64,
      "outputs": []
    },
    {
      "cell_type": "code",
      "source": [
        "print('~'*100, 'REAL TEXT')\n",
        "[tf.strings.reduce_join([num_to_char(word) for word in sentence]) for sentence in [sample[1]]]"
      ],
      "metadata": {
        "colab": {
          "base_uri": "https://localhost:8080/"
        },
        "id": "vJIb6wVVNhOI",
        "outputId": "8b04dd28-5fac-4260-9f54-cd645359bc77"
      },
      "execution_count": 65,
      "outputs": [
        {
          "output_type": "stream",
          "name": "stdout",
          "text": [
            "~~~~~~~~~~~~~~~~~~~~~~~~~~~~~~~~~~~~~~~~~~~~~~~~~~~~~~~~~~~~~~~~~~~~~~~~~~~~~~~~~~~~~~~~~~~~~~~~~~~~ REAL TEXT\n"
          ]
        },
        {
          "output_type": "execute_result",
          "data": {
            "text/plain": [
              "[<tf.Tensor: shape=(), dtype=string, numpy=b'bin red at s nine again'>]"
            ]
          },
          "metadata": {},
          "execution_count": 65
        }
      ]
    },
    {
      "cell_type": "code",
      "source": [
        "yhat = model.predict(tf.expand_dims(sample[0], axis=0))"
      ],
      "metadata": {
        "colab": {
          "base_uri": "https://localhost:8080/"
        },
        "id": "ctoFOuHQNpSe",
        "outputId": "fa600b5c-a498-4744-95f8-26488136d3c6"
      },
      "execution_count": 66,
      "outputs": [
        {
          "output_type": "stream",
          "name": "stdout",
          "text": [
            "1/1 [==============================] - 1s 1s/step\n"
          ]
        }
      ]
    },
    {
      "cell_type": "code",
      "source": [
        "decoded = tf.keras.backend.ctc_decode(yhat, input_length=[75], greedy=True)[0][0].numpy()"
      ],
      "metadata": {
        "id": "8lZcv0ClNtdT"
      },
      "execution_count": 67,
      "outputs": []
    },
    {
      "cell_type": "code",
      "source": [
        "print('~'*100, 'PREDICTIONS')\n",
        "[tf.strings.reduce_join([num_to_char(word) for word in sentence]) for sentence in decoded]"
      ],
      "metadata": {
        "colab": {
          "base_uri": "https://localhost:8080/"
        },
        "id": "-EuvOXj2Nwuv",
        "outputId": "1349a18b-537a-4ac5-b225-cbdad96dbea5"
      },
      "execution_count": 68,
      "outputs": [
        {
          "output_type": "stream",
          "name": "stdout",
          "text": [
            "~~~~~~~~~~~~~~~~~~~~~~~~~~~~~~~~~~~~~~~~~~~~~~~~~~~~~~~~~~~~~~~~~~~~~~~~~~~~~~~~~~~~~~~~~~~~~~~~~~~~ PREDICTIONS\n"
          ]
        },
        {
          "output_type": "execute_result",
          "data": {
            "text/plain": [
              "[<tf.Tensor: shape=(), dtype=string, numpy=b'bin red at s nine again'>]"
            ]
          },
          "metadata": {},
          "execution_count": 68
        }
      ]
    },
    {
      "cell_type": "code",
      "source": [],
      "metadata": {
        "id": "2OGBQcCMN0JC"
      },
      "execution_count": null,
      "outputs": []
    }
  ]
}